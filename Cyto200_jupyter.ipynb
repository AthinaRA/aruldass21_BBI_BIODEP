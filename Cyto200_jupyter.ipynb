{
  "cells": [
    {
      "cell_type": "markdown",
      "metadata": {
        "id": "view-in-github",
        "colab_type": "text"
      },
      "source": [
        "<a href=\"https://colab.research.google.com/github/AthinaRA/aruldass21_BBI_BIODEP/blob/main/Cyto200_jupyter.ipynb\" target=\"_parent\"><img src=\"https://colab.research.google.com/assets/colab-badge.svg\" alt=\"Open In Colab\"/></a>"
      ]
    },
    {
      "cell_type": "code",
      "execution_count": 1,
      "id": "e7f71536",
      "metadata": {
        "colab": {
          "base_uri": "https://localhost:8080/",
          "height": 0
        },
        "id": "e7f71536",
        "outputId": "d19171ed-5832-4efc-fc6f-1ca31c32c43c"
      },
      "outputs": [
        {
          "output_type": "stream",
          "name": "stdout",
          "text": [
            "Collecting xgboost==1.4\n",
            "  Downloading xgboost-1.4.0-py3-none-manylinux2010_x86_64.whl (166.7 MB)\n",
            "\u001b[K     |████████████████████████████████| 166.7 MB 52 kB/s \n",
            "\u001b[?25hRequirement already satisfied: numpy in /usr/local/lib/python3.7/dist-packages (from xgboost==1.4) (1.21.5)\n",
            "Requirement already satisfied: scipy in /usr/local/lib/python3.7/dist-packages (from xgboost==1.4) (1.4.1)\n",
            "Installing collected packages: xgboost\n",
            "  Attempting uninstall: xgboost\n",
            "    Found existing installation: xgboost 0.90\n",
            "    Uninstalling xgboost-0.90:\n",
            "      Successfully uninstalled xgboost-0.90\n",
            "Successfully installed xgboost-1.4.0\n"
          ]
        }
      ],
      "source": [
        "#Load libraries\n",
        "import numpy as np\n",
        "import pandas as pd\n",
        "import seaborn as sb\n",
        "from scipy import stats\n",
        "\n",
        "import os\n",
        "os.environ['KMP_DUPLICATE_LIB_OK']='True'\n",
        "#!conda install -c conda-forge xgboost\n",
        "\n",
        "!pip install xgboost==1.4"
      ]
    },
    {
      "cell_type": "code",
      "source": [
        "#mount Google Drive\n",
        "from google.colab import drive\n",
        "drive.mount('/content/drive')"
      ],
      "metadata": {
        "colab": {
          "base_uri": "https://localhost:8080/",
          "height": 0
        },
        "id": "bVS2hBV8lAzd",
        "outputId": "a8bc6702-16f0-40a4-f07d-bcae3b8e67eb"
      },
      "id": "bVS2hBV8lAzd",
      "execution_count": 2,
      "outputs": [
        {
          "output_type": "stream",
          "name": "stdout",
          "text": [
            "Mounted at /content/drive\n"
          ]
        }
      ]
    },
    {
      "cell_type": "code",
      "source": [
        "# change dir\n",
        "# the base Google Drive directory\n",
        "root_dir = \"/content/drive/My Drive/\"\n",
        "\n",
        "# choose where you want your project files to be saved\n",
        "project_folder = \"Colab Notebooks/Spark_Cyto_Colab/\"\n",
        "\n",
        "# change the OS to use your project folder as the working directory\n",
        "os.chdir(root_dir + project_folder)"
      ],
      "metadata": {
        "id": "_OgAfDoWkTjv"
      },
      "execution_count": 3,
      "outputs": [],
      "id": "_OgAfDoWkTjv"
    },
    {
      "cell_type": "code",
      "source": [
        "# check current dir\n",
        "!pwd"
      ],
      "metadata": {
        "colab": {
          "base_uri": "https://localhost:8080/",
          "height": 0
        },
        "id": "WwRPYVnjluYy",
        "outputId": "00f933a6-5291-4240-a4a5-041874231e3c"
      },
      "id": "WwRPYVnjluYy",
      "execution_count": 4,
      "outputs": [
        {
          "output_type": "stream",
          "name": "stdout",
          "text": [
            "/content/drive/My Drive/Colab Notebooks/Spark_Cyto_Colab\n"
          ]
        }
      ]
    },
    {
      "cell_type": "code",
      "execution_count": 5,
      "id": "d6c35727",
      "metadata": {
        "id": "d6c35727"
      },
      "outputs": [],
      "source": [
        "#Load data\n",
        "df = pd.read_csv(\"./spark_prelog_cytoPLASMA.csv\",header=0,sep=',')\n",
        "#df.head()"
      ]
    },
    {
      "cell_type": "markdown",
      "source": [
        "⚡⚡⚡⚡⚡⚡⚡⚡⚡⚡⚡⚡⚡⚡⚡ **PREPROCESSING: DATA PREP**"
      ],
      "metadata": {
        "id": "cD34BKjhxoKA"
      },
      "id": "cD34BKjhxoKA"
    },
    {
      "cell_type": "code",
      "execution_count": 6,
      "id": "e622ef23",
      "metadata": {
        "id": "e622ef23"
      },
      "outputs": [],
      "source": [
        "# rename cols with shorter names \n",
        "df.columns # to check col names\n",
        "list(df.columns) # to get list names \n",
        "\n",
        "df.columns = ['Record.ID','Centre','Study.Arm','Sex','BMI','Age','crpGroup','CRP','Eotaxin','Eotaxin3',\n",
        " 'GMCSF','IFNg','IL10','IL13','IL15','IL16','IL17','IL1b','IL2','IL4','IL5','IL6','IL7','IL8','IP10',\n",
        " 'MCP1','MCP4','MDC','MIP1a','MIP1b','TARC','TNFa','TNFb','VEGF']\n"
      ]
    },
    {
      "cell_type": "code",
      "execution_count": 7,
      "id": "4b0cdbd2",
      "metadata": {
        "id": "4b0cdbd2",
        "outputId": "1693a629-e026-46c0-bc2e-8426e4b58662",
        "colab": {
          "base_uri": "https://localhost:8080/",
          "height": 0
        }
      },
      "outputs": [
        {
          "output_type": "execute_result",
          "data": {
            "text/plain": [
              "Record.ID      int64\n",
              "Centre        object\n",
              "Study.Arm     object\n",
              "Sex           object\n",
              "BMI           object\n",
              "Age          float64\n",
              "crpGroup      object\n",
              "CRP          float64\n",
              "Eotaxin       object\n",
              "Eotaxin3     float64\n",
              "GMCSF        float64\n",
              "IFNg         float64\n",
              "IL10         float64\n",
              "IL13         float64\n",
              "IL15         float64\n",
              "IL16         float64\n",
              "IL17         float64\n",
              "IL1b         float64\n",
              "IL2          float64\n",
              "IL4          float64\n",
              "IL5          float64\n",
              "IL6          float64\n",
              "IL7          float64\n",
              "IL8          float64\n",
              "IP10         float64\n",
              "MCP1         float64\n",
              "MCP4         float64\n",
              "MDC          float64\n",
              "MIP1a        float64\n",
              "MIP1b        float64\n",
              "TARC         float64\n",
              "TNFa         float64\n",
              "TNFb         float64\n",
              "VEGF          object\n",
              "dtype: object"
            ]
          },
          "metadata": {},
          "execution_count": 7
        }
      ],
      "source": [
        "df.dtypes # float64 is numeric chr w decimals\n",
        "\n",
        "# VEGF and Eotx are 'object' here - there are str \"Complete\" entries, not all numeric\n",
        "#df.loc[:,'VEGF.plasma'] # use 'label' location"
      ]
    },
    {
      "cell_type": "code",
      "execution_count": 8,
      "id": "e79c48a8",
      "metadata": {
        "id": "e79c48a8",
        "outputId": "30358b36-fd2d-4473-a2e2-7209e4b6f500",
        "colab": {
          "base_uri": "https://localhost:8080/",
          "height": 0
        }
      },
      "outputs": [
        {
          "output_type": "execute_result",
          "data": {
            "text/plain": [
              "Record.ID      int64\n",
              "Centre        object\n",
              "Study.Arm     object\n",
              "Sex           object\n",
              "BMI           object\n",
              "Age          float64\n",
              "crpGroup      object\n",
              "CRP          float64\n",
              "Eotaxin       object\n",
              "Eotaxin3     float64\n",
              "GMCSF        float64\n",
              "IFNg         float64\n",
              "IL10         float64\n",
              "IL13         float64\n",
              "IL15         float64\n",
              "IL16         float64\n",
              "IL17         float64\n",
              "IL1b         float64\n",
              "IL2          float64\n",
              "IL4          float64\n",
              "IL5          float64\n",
              "IL6          float64\n",
              "IL7          float64\n",
              "IL8          float64\n",
              "IP10         float64\n",
              "MCP1         float64\n",
              "MCP4         float64\n",
              "MDC          float64\n",
              "MIP1a        float64\n",
              "MIP1b        float64\n",
              "TARC         float64\n",
              "TNFa         float64\n",
              "TNFb         float64\n",
              "VEGF          object\n",
              "dtype: object"
            ]
          },
          "metadata": {},
          "execution_count": 8
        }
      ],
      "source": [
        "# convert VEGF Eotx to NaN\n",
        "#df.loc[insert row,'VEGF.plasma'] = np.NaN\n",
        "df.loc[df['VEGF'] == 'Complete', 'VEGF'] = np.NaN\n",
        "df.loc[df['Eotaxin'] == 'Incomplete', 'Eotaxin'] = np.NaN\n",
        "\n",
        "# still retains original dtype - you will have to reset !!\n",
        "# check df\n",
        "df.dtypes # why are Eotx VEGF still object "
      ]
    },
    {
      "cell_type": "code",
      "execution_count": 9,
      "id": "eaeea0cc",
      "metadata": {
        "id": "eaeea0cc"
      },
      "outputs": [],
      "source": [
        "#check if there are anymore strings \n",
        "#list(df.loc[:,'VEGF']) \n",
        "#list(df.loc[:,'Eotaxin']) "
      ]
    },
    {
      "cell_type": "code",
      "execution_count": 10,
      "id": "355662cd",
      "metadata": {
        "id": "355662cd"
      },
      "outputs": [],
      "source": [
        "#convert data type for problem cols\n",
        "df = df.astype({'VEGF': np.float64, 'Eotaxin': np.float64})\n",
        "\n",
        "# OR df['VEGF'] = df['VEGF'].astype(np.float64) # you have to import float64 from numpy (np)"
      ]
    },
    {
      "cell_type": "markdown",
      "source": [
        "⚡⚡⚡⚡⚡⚡⚡⚡⚡⚡⚡⚡⚡⚡⚡⚡ **PREPROCESSING: NORMALIZATION & STANDARDIZATION**"
      ],
      "metadata": {
        "id": "M61B0cIexWZl"
      },
      "id": "M61B0cIexWZl"
    },
    {
      "cell_type": "code",
      "execution_count": 11,
      "id": "e4c687c1",
      "metadata": {
        "id": "e4c687c1"
      },
      "outputs": [],
      "source": [
        "# log10 transfrom / normalize\n",
        "df_log = np.log10(df.iloc[:,7:35]) # use iloc to subset range of columns by index, RMBR : iloc X include upper val ie col 11 not included. So say 12 to include\n",
        "#df_log.head()\n",
        "\n",
        "# OR from sklearn library --> from sklearn import preprocessing, df = preprocessing.normalize(df)\n",
        "    \n",
        "    \n",
        "# Example from web to calculate logarithm to base 2 on 'Salary' column > to new col 'new_logbase2' in df called data\n",
        "#data['new_logbase2'] = np.log2(data['Salary'])\n",
        "#df_log = np.log10(df.iloc[:,[7,11]]) # to select cols 7 AND 11  \n",
        "# OR\n",
        "#numerics = ['int16', 'int32', 'int64', 'float16', 'float32', 'float64']\n",
        "#for c in [c for c in df.columns if df[c].dtype in numerics]:\n",
        "    #df_[c] = np.log10(df[c])"
      ]
    },
    {
      "cell_type": "code",
      "execution_count": 12,
      "id": "617fe444",
      "metadata": {
        "id": "617fe444"
      },
      "outputs": [],
      "source": [
        "#  z transform / standardize / scaling\n",
        "df_z = (df_log - df_log.mean())/(df_log.std())  # use iloc to subset range of columns by index, RMBR : iloc X include upper val ie col 11 not included. So say 12 to include\n",
        "#df_z.head()\n",
        "\n",
        "#data_z = (data-data.mean())/(data.std())"
      ]
    },
    {
      "cell_type": "markdown",
      "source": [
        "⚡⚡⚡⚡⚡⚡⚡⚡⚡⚡⚡⚡⚡⚡⚡ **DATA EXPLORATION: BOXPLOT & DENSITY CURVES**"
      ],
      "metadata": {
        "id": "Hajl7XT4xC7h"
      },
      "id": "Hajl7XT4xC7h"
    },
    {
      "cell_type": "code",
      "execution_count": 13,
      "id": "aae50ffe",
      "metadata": {
        "scrolled": true,
        "id": "aae50ffe",
        "outputId": "7d9e4bd6-df01-4171-fed0-9d395daab50e",
        "colab": {
          "base_uri": "https://localhost:8080/",
          "height": 283
        }
      },
      "outputs": [
        {
          "output_type": "execute_result",
          "data": {
            "text/plain": [
              "[(-1.0, 1.0)]"
            ]
          },
          "metadata": {},
          "execution_count": 13
        },
        {
          "output_type": "display_data",
          "data": {
            "text/plain": [
              "<Figure size 432x288 with 1 Axes>"
            ],
            "image/png": "[encoded data removed]"
          },
          "metadata": {
            "needs_background": "light"
          }
        }
      ],
      "source": [
        "#df.describe()\n",
        "\n",
        "# plot boxplot\n",
        "#df_z = df_z.iloc[:,7:35]\n",
        "ax = sb.boxplot(data=df_z, orient=\"h\", palette=\"Set2\", showfliers=False, whis=0) #fliers is outliers, whis is whiskers\n",
        "ax.set(xlim=(-1, 1))\n",
        "\n",
        "# or using import matplotlib.pyplot as plt; plt.ylim(10, 40)"
      ]
    },
    {
      "cell_type": "code",
      "execution_count": 14,
      "id": "d0dde31c",
      "metadata": {
        "id": "d0dde31c",
        "outputId": "2b724c70-9bde-4707-ab2c-ac65a3f8edb8",
        "colab": {
          "base_uri": "https://localhost:8080/",
          "height": 457
        }
      },
      "outputs": [
        {
          "output_type": "execute_result",
          "data": {
            "text/plain": [
              "<seaborn.axisgrid.FacetGrid at 0x7ff381fd4310>"
            ]
          },
          "metadata": {},
          "execution_count": 14
        },
        {
          "output_type": "display_data",
          "data": {
            "text/plain": [
              "<Figure size 439.625x360 with 1 Axes>"
            ],
            "image/png": "[encoded data removed]"
          },
          "metadata": {
            "needs_background": "light"
          }
        }
      ],
      "source": [
        "bx = sb.displot(df_z, kind=\"kde\")\n",
        "bx.set(xlim=(-5, 5))"
      ]
    },
    {
      "cell_type": "markdown",
      "source": [
        "⚡⚡⚡⚡⚡⚡⚡⚡⚡⚡⚡⚡ **DATA EXPLORATION: RIDGELINE PLOT**"
      ],
      "metadata": {
        "id": "Si51wChEw5AK"
      },
      "id": "Si51wChEw5AK"
    },
    {
      "cell_type": "code",
      "execution_count": 15,
      "id": "e7d499ae",
      "metadata": {
        "id": "e7d499ae",
        "outputId": "c10658b0-9fb0-4fb3-bcb1-97fad050834b",
        "colab": {
          "base_uri": "https://localhost:8080/",
          "height": 423
        }
      },
      "outputs": [
        {
          "output_type": "execute_result",
          "data": {
            "text/plain": [
              "     variable     value\n",
              "0         CRP -1.142719\n",
              "1         CRP  0.200250\n",
              "2         CRP -1.142719\n",
              "3         CRP -0.003400\n",
              "4         CRP  0.163939\n",
              "...       ...       ...\n",
              "5611     VEGF -0.996613\n",
              "5612     VEGF -0.662962\n",
              "5613     VEGF -0.327122\n",
              "5614     VEGF -1.661385\n",
              "5615     VEGF -1.064942\n",
              "\n",
              "[5616 rows x 2 columns]"
            ],
            "text/html": [
              "\n",
              "  <div id=\"df-b853596e-f5e5-4b1d-b193-510752cf211a\">\n",
              "    <div class=\"colab-df-container\">\n",
              "      <div>\n",
              "<style scoped>\n",
              "    .dataframe tbody tr th:only-of-type {\n",
              "        vertical-align: middle;\n",
              "    }\n",
              "\n",
              "    .dataframe tbody tr th {\n",
              "        vertical-align: top;\n",
              "    }\n",
              "\n",
              "    .dataframe thead th {\n",
              "        text-align: right;\n",
              "    }\n",
              "</style>\n",
              "<table border=\"1\" class=\"dataframe\">\n",
              "  <thead>\n",
              "    <tr style=\"text-align: right;\">\n",
              "      <th></th>\n",
              "      <th>variable</th>\n",
              "      <th>value</th>\n",
              "    </tr>\n",
              "  </thead>\n",
              "  <tbody>\n",
              "    <tr>\n",
              "      <th>0</th>\n",
              "      <td>CRP</td>\n",
              "      <td>-1.142719</td>\n",
              "    </tr>\n",
              "    <tr>\n",
              "      <th>1</th>\n",
              "      <td>CRP</td>\n",
              "      <td>0.200250</td>\n",
              "    </tr>\n",
              "    <tr>\n",
              "      <th>2</th>\n",
              "      <td>CRP</td>\n",
              "      <td>-1.142719</td>\n",
              "    </tr>\n",
              "    <tr>\n",
              "      <th>3</th>\n",
              "      <td>CRP</td>\n",
              "      <td>-0.003400</td>\n",
              "    </tr>\n",
              "    <tr>\n",
              "      <th>4</th>\n",
              "      <td>CRP</td>\n",
              "      <td>0.163939</td>\n",
              "    </tr>\n",
              "    <tr>\n",
              "      <th>...</th>\n",
              "      <td>...</td>\n",
              "      <td>...</td>\n",
              "    </tr>\n",
              "    <tr>\n",
              "      <th>5611</th>\n",
              "      <td>VEGF</td>\n",
              "      <td>-0.996613</td>\n",
              "    </tr>\n",
              "    <tr>\n",
              "      <th>5612</th>\n",
              "      <td>VEGF</td>\n",
              "      <td>-0.662962</td>\n",
              "    </tr>\n",
              "    <tr>\n",
              "      <th>5613</th>\n",
              "      <td>VEGF</td>\n",
              "      <td>-0.327122</td>\n",
              "    </tr>\n",
              "    <tr>\n",
              "      <th>5614</th>\n",
              "      <td>VEGF</td>\n",
              "      <td>-1.661385</td>\n",
              "    </tr>\n",
              "    <tr>\n",
              "      <th>5615</th>\n",
              "      <td>VEGF</td>\n",
              "      <td>-1.064942</td>\n",
              "    </tr>\n",
              "  </tbody>\n",
              "</table>\n",
              "<p>5616 rows × 2 columns</p>\n",
              "</div>\n",
              "      <button class=\"colab-df-convert\" onclick=\"convertToInteractive('df-b853596e-f5e5-4b1d-b193-510752cf211a')\"\n",
              "              title=\"Convert this dataframe to an interactive table.\"\n",
              "              style=\"display:none;\">\n",
              "        \n",
              "  <svg xmlns=\"http://www.w3.org/2000/svg\" height=\"24px\"viewBox=\"0 0 24 24\"\n",
              "       width=\"24px\">\n",
              "    <path d=\"M0 0h24v24H0V0z\" fill=\"none\"/>\n",
              "    <path d=\"M18.56 5.44l.94 2.06.94-2.06 2.06-.94-2.06-.94-.94-2.06-.94 2.06-2.06.94zm-11 1L8.5 8.5l.94-2.06 2.06-.94-2.06-.94L8.5 2.5l-.94 2.06-2.06.94zm10 10l.94 2.06.94-2.06 2.06-.94-2.06-.94-.94-2.06-.94 2.06-2.06.94z\"/><path d=\"M17.41 7.96l-1.37-1.37c-.4-.4-.92-.59-1.43-.59-.52 0-1.04.2-1.43.59L10.3 9.45l-7.72 7.72c-.78.78-.78 2.05 0 2.83L4 21.41c.39.39.9.59 1.41.59.51 0 1.02-.2 1.41-.59l7.78-7.78 2.81-2.81c.8-.78.8-2.07 0-2.86zM5.41 20L4 18.59l7.72-7.72 1.47 1.35L5.41 20z\"/>\n",
              "  </svg>\n",
              "      </button>\n",
              "      \n",
              "  <style>\n",
              "    .colab-df-container {\n",
              "      display:flex;\n",
              "      flex-wrap:wrap;\n",
              "      gap: 12px;\n",
              "    }\n",
              "\n",
              "    .colab-df-convert {\n",
              "      background-color: #E8F0FE;\n",
              "      border: none;\n",
              "      border-radius: 50%;\n",
              "      cursor: pointer;\n",
              "      display: none;\n",
              "      fill: #1967D2;\n",
              "      height: 32px;\n",
              "      padding: 0 0 0 0;\n",
              "      width: 32px;\n",
              "    }\n",
              "\n",
              "    .colab-df-convert:hover {\n",
              "      background-color: #E2EBFA;\n",
              "      box-shadow: 0px 1px 2px rgba(60, 64, 67, 0.3), 0px 1px 3px 1px rgba(60, 64, 67, 0.15);\n",
              "      fill: #174EA6;\n",
              "    }\n",
              "\n",
              "    [theme=dark] .colab-df-convert {\n",
              "      background-color: #3B4455;\n",
              "      fill: #D2E3FC;\n",
              "    }\n",
              "\n",
              "    [theme=dark] .colab-df-convert:hover {\n",
              "      background-color: #434B5C;\n",
              "      box-shadow: 0px 1px 3px 1px rgba(0, 0, 0, 0.15);\n",
              "      filter: drop-shadow(0px 1px 2px rgba(0, 0, 0, 0.3));\n",
              "      fill: #FFFFFF;\n",
              "    }\n",
              "  </style>\n",
              "\n",
              "      <script>\n",
              "        const buttonEl =\n",
              "          document.querySelector('#df-b853596e-f5e5-4b1d-b193-510752cf211a button.colab-df-convert');\n",
              "        buttonEl.style.display =\n",
              "          google.colab.kernel.accessAllowed ? 'block' : 'none';\n",
              "\n",
              "        async function convertToInteractive(key) {\n",
              "          const element = document.querySelector('#df-b853596e-f5e5-4b1d-b193-510752cf211a');\n",
              "          const dataTable =\n",
              "            await google.colab.kernel.invokeFunction('convertToInteractive',\n",
              "                                                     [key], {});\n",
              "          if (!dataTable) return;\n",
              "\n",
              "          const docLinkHtml = 'Like what you see? Visit the ' +\n",
              "            '<a target=\"_blank\" href=https://colab.research.google.com/notebooks/data_table.ipynb>data table notebook</a>'\n",
              "            + ' to learn more about interactive tables.';\n",
              "          element.innerHTML = '';\n",
              "          dataTable['output_type'] = 'display_data';\n",
              "          await google.colab.output.renderOutput(dataTable, element);\n",
              "          const docLink = document.createElement('div');\n",
              "          docLink.innerHTML = docLinkHtml;\n",
              "          element.appendChild(docLink);\n",
              "        }\n",
              "      </script>\n",
              "    </div>\n",
              "  </div>\n",
              "  "
            ]
          },
          "metadata": {},
          "execution_count": 15
        }
      ],
      "source": [
        "# RIDGELINE PLOT\n",
        "#unlike in ggridges R, it takes a a few lines to build here\n",
        "\n",
        "# first copy dataframe\n",
        "df_z2 = df_z.copy()\n",
        "\n",
        "#melt it into long format\n",
        "df_z2 = pd.melt(df_z2)\n",
        "df_z2"
      ]
    },
    {
      "cell_type": "code",
      "execution_count": 16,
      "id": "0711419b",
      "metadata": {
        "id": "0711419b",
        "outputId": "63a79825-6ce6-4054-d1e2-fcd1e09b4d82",
        "colab": {
          "base_uri": "https://localhost:8080/",
          "height": 2322
        }
      },
      "outputs": [
        {
          "output_type": "display_data",
          "data": {
            "text/plain": [
              "<Figure size 345.6x2332.8 with 27 Axes>"
            ],
            "image/png": "[encoded data removed]"
          },
          "metadata": {}
        }
      ],
      "source": [
        "sb.set_theme(style=\"white\")\n",
        "cx = sb.FacetGrid(df_z2, row='variable', aspect=4, height=1.2) # df must be in longform ie col = variables , row = observations\n",
        "cx.map_dataframe(sb.kdeplot, x='value')\n",
        "cx.set_titles(\"\")\n",
        "cx.set(yticks=[])\n",
        "cx.set(xlim=(-4, 4))\n",
        "cx.despine(left=True)"
      ]
    },
    {
      "cell_type": "code",
      "execution_count": null,
      "id": "a3fc1207",
      "metadata": {
        "id": "a3fc1207",
        "outputId": "f8d14f51-decf-4542-8e1d-16a01acd7121"
      },
      "outputs": [
        {
          "name": "stdout",
          "output_type": "stream",
          "text": [
            "Requirement already satisfied: colorcet in /opt/anaconda3/lib/python3.9/site-packages (3.0.0)\n",
            "Requirement already satisfied: pyct>=0.4.4 in /opt/anaconda3/lib/python3.9/site-packages (from colorcet) (0.4.8)\n",
            "Requirement already satisfied: param>=1.7.0 in /opt/anaconda3/lib/python3.9/site-packages (from colorcet) (1.12.0)\n"
          ]
        }
      ],
      "source": [
        "# FINE-TUNING RIDGELINE PLOT\n",
        "\n",
        "# get colours\n",
        "import sys\n",
        "!{sys.executable} -m pip install colorcet # install a pip package in the current Jupyter kernel\n",
        "import colorcet as cc # this lib can accom more qualitative / categorical colours\n",
        "palette = sb.color_palette(cc.glasbey_dark, n_colors=27)"
      ]
    },
    {
      "cell_type": "code",
      "execution_count": null,
      "id": "152f1eba",
      "metadata": {
        "id": "152f1eba"
      },
      "outputs": [],
      "source": [
        "# re-initialize the FacetGrid object\n",
        "sb.set_theme(style=\"white\", rc={\"axes.facecolor\": (0, 0, 0, 0)}) # axis bg opacity = transparent \n",
        "dx = sb.FacetGrid(df_z2, row=\"variable\", palette=palette, hue=\"variable\", aspect=5, height=0.5) # main plot\n",
        "# hue in sb = third category for data point e.g. akin to colouring data points in scatterplot\n",
        "\n",
        "# build plot\n",
        "dx.map_dataframe(sb.kdeplot, x=\"value\", fill=True, alpha=1) # fill \n",
        "dx.map_dataframe(sb.kdeplot, x=\"value\", color='black') \n",
        "\n",
        "# Define and use a simple function to label the plot in axes coordinates\n",
        "import matplotlib.pyplot as plt\n",
        "def label(x, color, label):\n",
        "    ax = plt.gca() #from pyplot\n",
        "    ax.text(0, .2, label, color='black', fontsize=7,\n",
        "            ha=\"left\", va=\"center\", transform=ax.transAxes)\n",
        "\n",
        "dx.map(label, \"variable\") # to iterative run function e.g. label, using arguments supplied\n",
        "\n",
        "\n",
        "# adjust / set things\n",
        "dx.fig.subplots_adjust(hspace=-.5) # to make plots overlap \n",
        "dx.set_titles(\"\") # remove titles for subplot\n",
        "#dx.set(ylabel=None)  # remove the axis label ie \"Density\"\n",
        "dx.set(yticks=[], xlabel=\"scaled concentrations\", ylabel=None, xlim=(-4, 4)) # you can condense all .set para in one\n",
        "dx.despine(left=True)"
      ]
    },
    {
      "cell_type": "markdown",
      "source": [
        "⚡⚡⚡⚡⚡⚡⚡⚡⚡⚡⚡⚡ **DATA EXPLORATION: CORRELATION HEATMAP**"
      ],
      "metadata": {
        "id": "IrIeIjBwwJzS"
      },
      "id": "IrIeIjBwwJzS"
    },
    {
      "cell_type": "code",
      "execution_count": null,
      "id": "f67763c0",
      "metadata": {
        "id": "f67763c0"
      },
      "outputs": [],
      "source": [
        "# CORR HEATMAP\n",
        "df_z.corr() # to make a df x df correlation\n",
        "sb.heatmap(df_z.corr())"
      ]
    },
    {
      "cell_type": "code",
      "execution_count": null,
      "id": "678d4663",
      "metadata": {
        "id": "678d4663"
      },
      "outputs": [],
      "source": [
        "# INITIALIZE corr df\n",
        "\n",
        "# make a function that plots corr matrix and thresholds w 'mask' arg that masks corr where p-val > 0.05 \n",
        "def plot_cor_matrix(corr, mask=None):\n",
        "    f, ax = plt.subplots(figsize=(11, 9))\n",
        "    sb.heatmap(corr, ax=ax,\n",
        "                mask=mask,\n",
        "                # cosmetics\n",
        "                annot=False, vmin=-1, vmax=1, center=0, #annot to show r\n",
        "                cmap='coolwarm', linewidths=2, linecolor='white', cbar_kws={'orientation': 'horizontal'})\n",
        "    \n",
        "# plot without signif thresholding\n",
        "hx = df_z.corr()\n",
        "mask = np.triu(hx) # get upper tri\n",
        "plot_cor_matrix(hx,mask)\n",
        "#plt.show()"
      ]
    },
    {
      "cell_type": "code",
      "execution_count": null,
      "id": "1c8c4db0",
      "metadata": {
        "id": "1c8c4db0"
      },
      "outputs": [],
      "source": [
        "# FINE-TUNING HEATMAP  ## not NaN tolerant (FAILED)\n",
        "\n",
        "# define fxn to extract p-value\n",
        "def corr_sig(df=None):\n",
        "    p_matrix = np.zeros(shape=(df.shape[1],df.shape[1]))\n",
        "    for col in df.columns:\n",
        "        for col2 in df.drop(col,axis=1).columns:\n",
        "            r , p = stats.pearsonr(df[col],df[col2]) # this is from scipy.stats.pearsonr, spits r and p-val\n",
        "            p_matrix[df.columns.to_list().index(col),df.columns.to_list().index(col2)] = p \n",
        "    return p_matrix\n",
        "\n",
        "\n",
        "# Plotting with significance filter\n",
        "ix = df_z.corr()                            # get correlation\n",
        "p_values = corr_sig(df_z)                   # get p-Value\n",
        "mask = np.invert(np.tril(p_values<0.05))    # mask - only get significant corr, tril = lower tri, invert =\n",
        "plot_cor_matrix(ix,mask)  "
      ]
    },
    {
      "cell_type": "markdown",
      "source": [
        "⚡⚡⚡⚡⚡⚡⚡⚡⚡⚡⚡⚡⚡⚡⚡⚡⚡⚡⚡ **CLASSIFICATION**"
      ],
      "metadata": {
        "id": "NiGf8B3Gv4Ar"
      },
      "id": "NiGf8B3Gv4Ar"
    },
    {
      "cell_type": "code",
      "execution_count": 17,
      "id": "787824c2",
      "metadata": {
        "id": "787824c2"
      },
      "outputs": [],
      "source": [
        "######## Try XGBoost classifier ###############\n",
        "\n",
        "# importing libraries\n",
        "from sklearn import preprocessing\n",
        "from sklearn.model_selection import train_test_split\n",
        "from sklearn.metrics import accuracy_score\n"
      ]
    },
    {
      "cell_type": "code",
      "execution_count": 18,
      "id": "76da6585",
      "metadata": {
        "id": "76da6585"
      },
      "outputs": [],
      "source": [
        "#!pip3 install xgboost # install a pip package in the current Jupyter kernel\n",
        "# XGB installed at the start\n",
        "from xgboost import XGBClassifier"
      ]
    },
    {
      "cell_type": "code",
      "execution_count": 19,
      "id": "66af48e8",
      "metadata": {
        "id": "66af48e8",
        "outputId": "ff1a243d-e70a-4e40-bfb6-1ac7a0c5e530",
        "colab": {
          "base_uri": "https://localhost:8080/",
          "height": 206
        }
      },
      "outputs": [
        {
          "output_type": "execute_result",
          "data": {
            "text/plain": [
              "   crpGroup\n",
              "0         1\n",
              "1         1\n",
              "2         1\n",
              "3         1\n",
              "4         1"
            ],
            "text/html": [
              "\n",
              "  <div id=\"df-93be5cae-7ef8-4c5a-8686-bb6bcbff062d\">\n",
              "    <div class=\"colab-df-container\">\n",
              "      <div>\n",
              "<style scoped>\n",
              "    .dataframe tbody tr th:only-of-type {\n",
              "        vertical-align: middle;\n",
              "    }\n",
              "\n",
              "    .dataframe tbody tr th {\n",
              "        vertical-align: top;\n",
              "    }\n",
              "\n",
              "    .dataframe thead th {\n",
              "        text-align: right;\n",
              "    }\n",
              "</style>\n",
              "<table border=\"1\" class=\"dataframe\">\n",
              "  <thead>\n",
              "    <tr style=\"text-align: right;\">\n",
              "      <th></th>\n",
              "      <th>crpGroup</th>\n",
              "    </tr>\n",
              "  </thead>\n",
              "  <tbody>\n",
              "    <tr>\n",
              "      <th>0</th>\n",
              "      <td>1</td>\n",
              "    </tr>\n",
              "    <tr>\n",
              "      <th>1</th>\n",
              "      <td>1</td>\n",
              "    </tr>\n",
              "    <tr>\n",
              "      <th>2</th>\n",
              "      <td>1</td>\n",
              "    </tr>\n",
              "    <tr>\n",
              "      <th>3</th>\n",
              "      <td>1</td>\n",
              "    </tr>\n",
              "    <tr>\n",
              "      <th>4</th>\n",
              "      <td>1</td>\n",
              "    </tr>\n",
              "  </tbody>\n",
              "</table>\n",
              "</div>\n",
              "      <button class=\"colab-df-convert\" onclick=\"convertToInteractive('df-93be5cae-7ef8-4c5a-8686-bb6bcbff062d')\"\n",
              "              title=\"Convert this dataframe to an interactive table.\"\n",
              "              style=\"display:none;\">\n",
              "        \n",
              "  <svg xmlns=\"http://www.w3.org/2000/svg\" height=\"24px\"viewBox=\"0 0 24 24\"\n",
              "       width=\"24px\">\n",
              "    <path d=\"M0 0h24v24H0V0z\" fill=\"none\"/>\n",
              "    <path d=\"M18.56 5.44l.94 2.06.94-2.06 2.06-.94-2.06-.94-.94-2.06-.94 2.06-2.06.94zm-11 1L8.5 8.5l.94-2.06 2.06-.94-2.06-.94L8.5 2.5l-.94 2.06-2.06.94zm10 10l.94 2.06.94-2.06 2.06-.94-2.06-.94-.94-2.06-.94 2.06-2.06.94z\"/><path d=\"M17.41 7.96l-1.37-1.37c-.4-.4-.92-.59-1.43-.59-.52 0-1.04.2-1.43.59L10.3 9.45l-7.72 7.72c-.78.78-.78 2.05 0 2.83L4 21.41c.39.39.9.59 1.41.59.51 0 1.02-.2 1.41-.59l7.78-7.78 2.81-2.81c.8-.78.8-2.07 0-2.86zM5.41 20L4 18.59l7.72-7.72 1.47 1.35L5.41 20z\"/>\n",
              "  </svg>\n",
              "      </button>\n",
              "      \n",
              "  <style>\n",
              "    .colab-df-container {\n",
              "      display:flex;\n",
              "      flex-wrap:wrap;\n",
              "      gap: 12px;\n",
              "    }\n",
              "\n",
              "    .colab-df-convert {\n",
              "      background-color: #E8F0FE;\n",
              "      border: none;\n",
              "      border-radius: 50%;\n",
              "      cursor: pointer;\n",
              "      display: none;\n",
              "      fill: #1967D2;\n",
              "      height: 32px;\n",
              "      padding: 0 0 0 0;\n",
              "      width: 32px;\n",
              "    }\n",
              "\n",
              "    .colab-df-convert:hover {\n",
              "      background-color: #E2EBFA;\n",
              "      box-shadow: 0px 1px 2px rgba(60, 64, 67, 0.3), 0px 1px 3px 1px rgba(60, 64, 67, 0.15);\n",
              "      fill: #174EA6;\n",
              "    }\n",
              "\n",
              "    [theme=dark] .colab-df-convert {\n",
              "      background-color: #3B4455;\n",
              "      fill: #D2E3FC;\n",
              "    }\n",
              "\n",
              "    [theme=dark] .colab-df-convert:hover {\n",
              "      background-color: #434B5C;\n",
              "      box-shadow: 0px 1px 3px 1px rgba(0, 0, 0, 0.15);\n",
              "      filter: drop-shadow(0px 1px 2px rgba(0, 0, 0, 0.3));\n",
              "      fill: #FFFFFF;\n",
              "    }\n",
              "  </style>\n",
              "\n",
              "      <script>\n",
              "        const buttonEl =\n",
              "          document.querySelector('#df-93be5cae-7ef8-4c5a-8686-bb6bcbff062d button.colab-df-convert');\n",
              "        buttonEl.style.display =\n",
              "          google.colab.kernel.accessAllowed ? 'block' : 'none';\n",
              "\n",
              "        async function convertToInteractive(key) {\n",
              "          const element = document.querySelector('#df-93be5cae-7ef8-4c5a-8686-bb6bcbff062d');\n",
              "          const dataTable =\n",
              "            await google.colab.kernel.invokeFunction('convertToInteractive',\n",
              "                                                     [key], {});\n",
              "          if (!dataTable) return;\n",
              "\n",
              "          const docLinkHtml = 'Like what you see? Visit the ' +\n",
              "            '<a target=\"_blank\" href=https://colab.research.google.com/notebooks/data_table.ipynb>data table notebook</a>'\n",
              "            + ' to learn more about interactive tables.';\n",
              "          element.innerHTML = '';\n",
              "          dataTable['output_type'] = 'display_data';\n",
              "          await google.colab.output.renderOutput(dataTable, element);\n",
              "          const docLink = document.createElement('div');\n",
              "          docLink.innerHTML = docLinkHtml;\n",
              "          element.appendChild(docLink);\n",
              "        }\n",
              "      </script>\n",
              "    </div>\n",
              "  </div>\n",
              "  "
            ]
          },
          "metadata": {},
          "execution_count": 19
        }
      ],
      "source": [
        "# DEFINE FEATURES\n",
        "X = df_z # 208 x 27\n",
        "\n",
        "\n",
        "# DEFINE LABELS / ONE-HOT ENCODING (for categorical vars)\n",
        "y = df[[\"crpGroup\"]] # 208 x 1\n",
        "\n",
        "# initialize (encode labels with value between 0 and n_classes-1)\n",
        "le = preprocessing.LabelEncoder()\n",
        "\n",
        "# fit and transform (use df.apply() to apply le.fit_transform to all columns e.g. to X)\n",
        "y2 = y.apply(le.fit_transform)\n",
        "y2.head()  #Low inflammation = 1; High inflammation = 0"
      ]
    },
    {
      "cell_type": "code",
      "execution_count": 20,
      "id": "273b9a73",
      "metadata": {
        "id": "273b9a73"
      },
      "outputs": [],
      "source": [
        "#split in train and test \n",
        "X_train, X_test, y_train, y_test = train_test_split(X, y2, test_size=0.3, random_state=1) \n",
        "\n",
        "#test size; 30% is held out for test/validation, random sate "
      ]
    },
    {
      "cell_type": "code",
      "execution_count": 21,
      "id": "6d69f24c",
      "metadata": {
        "id": "6d69f24c"
      },
      "outputs": [],
      "source": [
        "# define base model \n",
        "model = XGBClassifier() #does not have specific configs"
      ]
    },
    {
      "cell_type": "code",
      "execution_count": null,
      "id": "37dd8d1a",
      "metadata": {
        "id": "37dd8d1a"
      },
      "outputs": [],
      "source": [
        "#from  sklearn.tree import  DecisionTreeClassifier\n",
        "#model = DecisionTreeClassifier()"
      ]
    },
    {
      "cell_type": "code",
      "execution_count": 22,
      "id": "9799e1cb",
      "metadata": {
        "id": "9799e1cb",
        "outputId": "3892adaa-d5ec-49c8-ea1a-8b408fc42bcd",
        "colab": {
          "base_uri": "https://localhost:8080/",
          "height": 0
        }
      },
      "outputs": [
        {
          "output_type": "stream",
          "name": "stdout",
          "text": [
            "[18:11:46] WARNING: ../src/learner.cc:1095: Starting in XGBoost 1.3.0, the default evaluation metric used with the objective 'binary:logistic' was changed from 'error' to 'logloss'. Explicitly set eval_metric if you'd like to restore the old behavior.\n"
          ]
        },
        {
          "output_type": "stream",
          "name": "stderr",
          "text": [
            "/usr/local/lib/python3.7/dist-packages/xgboost/sklearn.py:1146: UserWarning: The use of label encoder in XGBClassifier is deprecated and will be removed in a future release. To remove this warning, do the following: 1) Pass option use_label_encoder=False when constructing XGBClassifier object; and 2) Encode your labels (y) as integers starting with 0, i.e. 0, 1, 2, ..., [num_class - 1].\n",
            "  warnings.warn(label_encoder_deprecation_msg, UserWarning)\n",
            "/usr/local/lib/python3.7/dist-packages/sklearn/preprocessing/_label.py:98: DataConversionWarning: A column-vector y was passed when a 1d array was expected. Please change the shape of y to (n_samples, ), for example using ravel().\n",
            "  y = column_or_1d(y, warn=True)\n",
            "/usr/local/lib/python3.7/dist-packages/sklearn/preprocessing/_label.py:133: DataConversionWarning: A column-vector y was passed when a 1d array was expected. Please change the shape of y to (n_samples, ), for example using ravel().\n",
            "  y = column_or_1d(y, warn=True)\n"
          ]
        },
        {
          "output_type": "execute_result",
          "data": {
            "text/plain": [
              "XGBClassifier(base_score=0.5, booster='gbtree', colsample_bylevel=1,\n",
              "              colsample_bynode=1, colsample_bytree=1, gamma=0, gpu_id=-1,\n",
              "              importance_type='gain', interaction_constraints='',\n",
              "              learning_rate=0.300000012, max_delta_step=0, max_depth=6,\n",
              "              min_child_weight=1, missing=nan, monotone_constraints='()',\n",
              "              n_estimators=100, n_jobs=2, num_parallel_tree=1, random_state=0,\n",
              "              reg_alpha=0, reg_lambda=1, scale_pos_weight=1, subsample=1,\n",
              "              tree_method='exact', validate_parameters=1, verbosity=None)"
            ]
          },
          "metadata": {},
          "execution_count": 22
        }
      ],
      "source": [
        "# fit model on training data\n",
        "model.fit(X_train, y_train) # there are many hyperparameters - general, booster, learning, "
      ]
    },
    {
      "cell_type": "code",
      "execution_count": 23,
      "id": "529fbbfe",
      "metadata": {
        "id": "529fbbfe",
        "colab": {
          "base_uri": "https://localhost:8080/",
          "height": 299
        },
        "outputId": "444d3729-11d0-48e5-c473-86593ae990c3"
      },
      "outputs": [
        {
          "output_type": "execute_result",
          "data": {
            "text/plain": [
              "          CRP   Eotaxin  Eotaxin3     GMCSF      IFNg      IL10      IL13  \\\n",
              "194  3.284777 -4.922662 -2.126749  5.002137       NaN  2.841461       NaN   \n",
              "55  -0.652041 -0.481929  0.417924 -0.429371  0.793096 -0.241173       NaN   \n",
              "93   0.234788  0.147242  1.389456       NaN  0.473400 -1.216430       NaN   \n",
              "53  -1.429747  2.513103  3.606126  0.131133 -0.281665 -0.971926 -0.389054   \n",
              "97   1.249076 -0.486180 -0.353164       NaN -0.110069 -0.904219 -0.122453   \n",
              "\n",
              "         IL15      IL16      IL17  ...      IP10      MCP1      MCP4  \\\n",
              "194  4.038698 -7.230878  1.780885  ... -4.522090 -4.561085 -0.724282   \n",
              "55  -0.723612  0.265460  0.175795  ...  0.262403  0.035336 -0.429478   \n",
              "93  -1.250300  1.083490 -4.176307  ... -0.276916  0.460838  2.804782   \n",
              "53  -0.448787 -0.333966 -0.837618  ...  0.540688  1.948508  1.916971   \n",
              "97   1.192574  0.111630 -0.442500  ...  0.039744 -0.259916 -0.869933   \n",
              "\n",
              "          MDC     MIP1a     MIP1b      TARC      TNFa      TNFb      VEGF  \n",
              "194 -3.642443  2.082699 -3.072460 -3.995936 -0.305946  2.250389 -7.908637  \n",
              "55  -0.129951 -0.581800 -0.356353 -0.293266  0.829038 -0.124485  0.603230  \n",
              "93  -2.582105  2.208957  2.548937 -2.126244 -4.279440  3.225073       NaN  \n",
              "53   0.348988 -0.170221  0.193940  1.475118 -0.123743       NaN  0.765132  \n",
              "97   0.199428 -1.633121 -0.827554 -0.178118  0.464988 -1.093546  0.628036  \n",
              "\n",
              "[5 rows x 27 columns]"
            ],
            "text/html": [
              "\n",
              "  <div id=\"df-23eca7f3-d49e-49b0-b3ca-8a35e1c01881\">\n",
              "    <div class=\"colab-df-container\">\n",
              "      <div>\n",
              "<style scoped>\n",
              "    .dataframe tbody tr th:only-of-type {\n",
              "        vertical-align: middle;\n",
              "    }\n",
              "\n",
              "    .dataframe tbody tr th {\n",
              "        vertical-align: top;\n",
              "    }\n",
              "\n",
              "    .dataframe thead th {\n",
              "        text-align: right;\n",
              "    }\n",
              "</style>\n",
              "<table border=\"1\" class=\"dataframe\">\n",
              "  <thead>\n",
              "    <tr style=\"text-align: right;\">\n",
              "      <th></th>\n",
              "      <th>CRP</th>\n",
              "      <th>Eotaxin</th>\n",
              "      <th>Eotaxin3</th>\n",
              "      <th>GMCSF</th>\n",
              "      <th>IFNg</th>\n",
              "      <th>IL10</th>\n",
              "      <th>IL13</th>\n",
              "      <th>IL15</th>\n",
              "      <th>IL16</th>\n",
              "      <th>IL17</th>\n",
              "      <th>...</th>\n",
              "      <th>IP10</th>\n",
              "      <th>MCP1</th>\n",
              "      <th>MCP4</th>\n",
              "      <th>MDC</th>\n",
              "      <th>MIP1a</th>\n",
              "      <th>MIP1b</th>\n",
              "      <th>TARC</th>\n",
              "      <th>TNFa</th>\n",
              "      <th>TNFb</th>\n",
              "      <th>VEGF</th>\n",
              "    </tr>\n",
              "  </thead>\n",
              "  <tbody>\n",
              "    <tr>\n",
              "      <th>194</th>\n",
              "      <td>3.284777</td>\n",
              "      <td>-4.922662</td>\n",
              "      <td>-2.126749</td>\n",
              "      <td>5.002137</td>\n",
              "      <td>NaN</td>\n",
              "      <td>2.841461</td>\n",
              "      <td>NaN</td>\n",
              "      <td>4.038698</td>\n",
              "      <td>-7.230878</td>\n",
              "      <td>1.780885</td>\n",
              "      <td>...</td>\n",
              "      <td>-4.522090</td>\n",
              "      <td>-4.561085</td>\n",
              "      <td>-0.724282</td>\n",
              "      <td>-3.642443</td>\n",
              "      <td>2.082699</td>\n",
              "      <td>-3.072460</td>\n",
              "      <td>-3.995936</td>\n",
              "      <td>-0.305946</td>\n",
              "      <td>2.250389</td>\n",
              "      <td>-7.908637</td>\n",
              "    </tr>\n",
              "    <tr>\n",
              "      <th>55</th>\n",
              "      <td>-0.652041</td>\n",
              "      <td>-0.481929</td>\n",
              "      <td>0.417924</td>\n",
              "      <td>-0.429371</td>\n",
              "      <td>0.793096</td>\n",
              "      <td>-0.241173</td>\n",
              "      <td>NaN</td>\n",
              "      <td>-0.723612</td>\n",
              "      <td>0.265460</td>\n",
              "      <td>0.175795</td>\n",
              "      <td>...</td>\n",
              "      <td>0.262403</td>\n",
              "      <td>0.035336</td>\n",
              "      <td>-0.429478</td>\n",
              "      <td>-0.129951</td>\n",
              "      <td>-0.581800</td>\n",
              "      <td>-0.356353</td>\n",
              "      <td>-0.293266</td>\n",
              "      <td>0.829038</td>\n",
              "      <td>-0.124485</td>\n",
              "      <td>0.603230</td>\n",
              "    </tr>\n",
              "    <tr>\n",
              "      <th>93</th>\n",
              "      <td>0.234788</td>\n",
              "      <td>0.147242</td>\n",
              "      <td>1.389456</td>\n",
              "      <td>NaN</td>\n",
              "      <td>0.473400</td>\n",
              "      <td>-1.216430</td>\n",
              "      <td>NaN</td>\n",
              "      <td>-1.250300</td>\n",
              "      <td>1.083490</td>\n",
              "      <td>-4.176307</td>\n",
              "      <td>...</td>\n",
              "      <td>-0.276916</td>\n",
              "      <td>0.460838</td>\n",
              "      <td>2.804782</td>\n",
              "      <td>-2.582105</td>\n",
              "      <td>2.208957</td>\n",
              "      <td>2.548937</td>\n",
              "      <td>-2.126244</td>\n",
              "      <td>-4.279440</td>\n",
              "      <td>3.225073</td>\n",
              "      <td>NaN</td>\n",
              "    </tr>\n",
              "    <tr>\n",
              "      <th>53</th>\n",
              "      <td>-1.429747</td>\n",
              "      <td>2.513103</td>\n",
              "      <td>3.606126</td>\n",
              "      <td>0.131133</td>\n",
              "      <td>-0.281665</td>\n",
              "      <td>-0.971926</td>\n",
              "      <td>-0.389054</td>\n",
              "      <td>-0.448787</td>\n",
              "      <td>-0.333966</td>\n",
              "      <td>-0.837618</td>\n",
              "      <td>...</td>\n",
              "      <td>0.540688</td>\n",
              "      <td>1.948508</td>\n",
              "      <td>1.916971</td>\n",
              "      <td>0.348988</td>\n",
              "      <td>-0.170221</td>\n",
              "      <td>0.193940</td>\n",
              "      <td>1.475118</td>\n",
              "      <td>-0.123743</td>\n",
              "      <td>NaN</td>\n",
              "      <td>0.765132</td>\n",
              "    </tr>\n",
              "    <tr>\n",
              "      <th>97</th>\n",
              "      <td>1.249076</td>\n",
              "      <td>-0.486180</td>\n",
              "      <td>-0.353164</td>\n",
              "      <td>NaN</td>\n",
              "      <td>-0.110069</td>\n",
              "      <td>-0.904219</td>\n",
              "      <td>-0.122453</td>\n",
              "      <td>1.192574</td>\n",
              "      <td>0.111630</td>\n",
              "      <td>-0.442500</td>\n",
              "      <td>...</td>\n",
              "      <td>0.039744</td>\n",
              "      <td>-0.259916</td>\n",
              "      <td>-0.869933</td>\n",
              "      <td>0.199428</td>\n",
              "      <td>-1.633121</td>\n",
              "      <td>-0.827554</td>\n",
              "      <td>-0.178118</td>\n",
              "      <td>0.464988</td>\n",
              "      <td>-1.093546</td>\n",
              "      <td>0.628036</td>\n",
              "    </tr>\n",
              "  </tbody>\n",
              "</table>\n",
              "<p>5 rows × 27 columns</p>\n",
              "</div>\n",
              "      <button class=\"colab-df-convert\" onclick=\"convertToInteractive('df-23eca7f3-d49e-49b0-b3ca-8a35e1c01881')\"\n",
              "              title=\"Convert this dataframe to an interactive table.\"\n",
              "              style=\"display:none;\">\n",
              "        \n",
              "  <svg xmlns=\"http://www.w3.org/2000/svg\" height=\"24px\"viewBox=\"0 0 24 24\"\n",
              "       width=\"24px\">\n",
              "    <path d=\"M0 0h24v24H0V0z\" fill=\"none\"/>\n",
              "    <path d=\"M18.56 5.44l.94 2.06.94-2.06 2.06-.94-2.06-.94-.94-2.06-.94 2.06-2.06.94zm-11 1L8.5 8.5l.94-2.06 2.06-.94-2.06-.94L8.5 2.5l-.94 2.06-2.06.94zm10 10l.94 2.06.94-2.06 2.06-.94-2.06-.94-.94-2.06-.94 2.06-2.06.94z\"/><path d=\"M17.41 7.96l-1.37-1.37c-.4-.4-.92-.59-1.43-.59-.52 0-1.04.2-1.43.59L10.3 9.45l-7.72 7.72c-.78.78-.78 2.05 0 2.83L4 21.41c.39.39.9.59 1.41.59.51 0 1.02-.2 1.41-.59l7.78-7.78 2.81-2.81c.8-.78.8-2.07 0-2.86zM5.41 20L4 18.59l7.72-7.72 1.47 1.35L5.41 20z\"/>\n",
              "  </svg>\n",
              "      </button>\n",
              "      \n",
              "  <style>\n",
              "    .colab-df-container {\n",
              "      display:flex;\n",
              "      flex-wrap:wrap;\n",
              "      gap: 12px;\n",
              "    }\n",
              "\n",
              "    .colab-df-convert {\n",
              "      background-color: #E8F0FE;\n",
              "      border: none;\n",
              "      border-radius: 50%;\n",
              "      cursor: pointer;\n",
              "      display: none;\n",
              "      fill: #1967D2;\n",
              "      height: 32px;\n",
              "      padding: 0 0 0 0;\n",
              "      width: 32px;\n",
              "    }\n",
              "\n",
              "    .colab-df-convert:hover {\n",
              "      background-color: #E2EBFA;\n",
              "      box-shadow: 0px 1px 2px rgba(60, 64, 67, 0.3), 0px 1px 3px 1px rgba(60, 64, 67, 0.15);\n",
              "      fill: #174EA6;\n",
              "    }\n",
              "\n",
              "    [theme=dark] .colab-df-convert {\n",
              "      background-color: #3B4455;\n",
              "      fill: #D2E3FC;\n",
              "    }\n",
              "\n",
              "    [theme=dark] .colab-df-convert:hover {\n",
              "      background-color: #434B5C;\n",
              "      box-shadow: 0px 1px 3px 1px rgba(0, 0, 0, 0.15);\n",
              "      filter: drop-shadow(0px 1px 2px rgba(0, 0, 0, 0.3));\n",
              "      fill: #FFFFFF;\n",
              "    }\n",
              "  </style>\n",
              "\n",
              "      <script>\n",
              "        const buttonEl =\n",
              "          document.querySelector('#df-23eca7f3-d49e-49b0-b3ca-8a35e1c01881 button.colab-df-convert');\n",
              "        buttonEl.style.display =\n",
              "          google.colab.kernel.accessAllowed ? 'block' : 'none';\n",
              "\n",
              "        async function convertToInteractive(key) {\n",
              "          const element = document.querySelector('#df-23eca7f3-d49e-49b0-b3ca-8a35e1c01881');\n",
              "          const dataTable =\n",
              "            await google.colab.kernel.invokeFunction('convertToInteractive',\n",
              "                                                     [key], {});\n",
              "          if (!dataTable) return;\n",
              "\n",
              "          const docLinkHtml = 'Like what you see? Visit the ' +\n",
              "            '<a target=\"_blank\" href=https://colab.research.google.com/notebooks/data_table.ipynb>data table notebook</a>'\n",
              "            + ' to learn more about interactive tables.';\n",
              "          element.innerHTML = '';\n",
              "          dataTable['output_type'] = 'display_data';\n",
              "          await google.colab.output.renderOutput(dataTable, element);\n",
              "          const docLink = document.createElement('div');\n",
              "          docLink.innerHTML = docLinkHtml;\n",
              "          element.appendChild(docLink);\n",
              "        }\n",
              "      </script>\n",
              "    </div>\n",
              "  </div>\n",
              "  "
            ]
          },
          "metadata": {},
          "execution_count": 23
        }
      ],
      "source": [
        "X_train.head()"
      ]
    },
    {
      "cell_type": "code",
      "execution_count": 24,
      "id": "20000f18",
      "metadata": {
        "id": "20000f18",
        "colab": {
          "base_uri": "https://localhost:8080/",
          "height": 0
        },
        "outputId": "99205bcc-4dd2-4b5e-b59b-3fb245f64a21"
      },
      "outputs": [
        {
          "output_type": "stream",
          "name": "stderr",
          "text": [
            "/usr/local/lib/python3.7/dist-packages/xgboost/data.py:114: UserWarning: Use subset (sliced data) of np.ndarray is not recommended because it will generate extra copies and increase memory consumption\n",
            "  \"because it will generate extra copies and increase \" +\n"
          ]
        },
        {
          "output_type": "execute_result",
          "data": {
            "text/plain": [
              "array([1, 0, 1, 1, 1, 0, 0, 1, 1, 1, 1, 0, 1, 1, 1, 1, 0, 1, 1, 1, 0, 1,\n",
              "       1, 1, 1, 0, 1, 1, 1, 1, 0, 1, 1, 1, 1, 0, 1, 1, 1, 1, 0, 1, 1, 1,\n",
              "       1, 1, 0, 1, 1, 1, 1, 1, 1, 1, 0, 1, 1, 1, 0, 1, 1, 1, 0])"
            ]
          },
          "metadata": {},
          "execution_count": 24
        }
      ],
      "source": [
        "# predict / apply on test data\n",
        "y_pred = model.predict(X_test) # only provide X, because y_test contains our answer labels\n",
        "y_pred"
      ]
    },
    {
      "cell_type": "code",
      "source": [
        "y_test.head()"
      ],
      "metadata": {
        "colab": {
          "base_uri": "https://localhost:8080/",
          "height": 206
        },
        "id": "I1xK34NaofkZ",
        "outputId": "90a2baa1-da7c-499d-8ec9-e58f59ee3a7a"
      },
      "id": "I1xK34NaofkZ",
      "execution_count": 25,
      "outputs": [
        {
          "output_type": "execute_result",
          "data": {
            "text/plain": [
              "     crpGroup\n",
              "186         1\n",
              "155         0\n",
              "165         1\n",
              "200         1\n",
              "58          1"
            ],
            "text/html": [
              "\n",
              "  <div id=\"df-6c2a238e-982c-482d-b37b-edd42a2fb038\">\n",
              "    <div class=\"colab-df-container\">\n",
              "      <div>\n",
              "<style scoped>\n",
              "    .dataframe tbody tr th:only-of-type {\n",
              "        vertical-align: middle;\n",
              "    }\n",
              "\n",
              "    .dataframe tbody tr th {\n",
              "        vertical-align: top;\n",
              "    }\n",
              "\n",
              "    .dataframe thead th {\n",
              "        text-align: right;\n",
              "    }\n",
              "</style>\n",
              "<table border=\"1\" class=\"dataframe\">\n",
              "  <thead>\n",
              "    <tr style=\"text-align: right;\">\n",
              "      <th></th>\n",
              "      <th>crpGroup</th>\n",
              "    </tr>\n",
              "  </thead>\n",
              "  <tbody>\n",
              "    <tr>\n",
              "      <th>186</th>\n",
              "      <td>1</td>\n",
              "    </tr>\n",
              "    <tr>\n",
              "      <th>155</th>\n",
              "      <td>0</td>\n",
              "    </tr>\n",
              "    <tr>\n",
              "      <th>165</th>\n",
              "      <td>1</td>\n",
              "    </tr>\n",
              "    <tr>\n",
              "      <th>200</th>\n",
              "      <td>1</td>\n",
              "    </tr>\n",
              "    <tr>\n",
              "      <th>58</th>\n",
              "      <td>1</td>\n",
              "    </tr>\n",
              "  </tbody>\n",
              "</table>\n",
              "</div>\n",
              "      <button class=\"colab-df-convert\" onclick=\"convertToInteractive('df-6c2a238e-982c-482d-b37b-edd42a2fb038')\"\n",
              "              title=\"Convert this dataframe to an interactive table.\"\n",
              "              style=\"display:none;\">\n",
              "        \n",
              "  <svg xmlns=\"http://www.w3.org/2000/svg\" height=\"24px\"viewBox=\"0 0 24 24\"\n",
              "       width=\"24px\">\n",
              "    <path d=\"M0 0h24v24H0V0z\" fill=\"none\"/>\n",
              "    <path d=\"M18.56 5.44l.94 2.06.94-2.06 2.06-.94-2.06-.94-.94-2.06-.94 2.06-2.06.94zm-11 1L8.5 8.5l.94-2.06 2.06-.94-2.06-.94L8.5 2.5l-.94 2.06-2.06.94zm10 10l.94 2.06.94-2.06 2.06-.94-2.06-.94-.94-2.06-.94 2.06-2.06.94z\"/><path d=\"M17.41 7.96l-1.37-1.37c-.4-.4-.92-.59-1.43-.59-.52 0-1.04.2-1.43.59L10.3 9.45l-7.72 7.72c-.78.78-.78 2.05 0 2.83L4 21.41c.39.39.9.59 1.41.59.51 0 1.02-.2 1.41-.59l7.78-7.78 2.81-2.81c.8-.78.8-2.07 0-2.86zM5.41 20L4 18.59l7.72-7.72 1.47 1.35L5.41 20z\"/>\n",
              "  </svg>\n",
              "      </button>\n",
              "      \n",
              "  <style>\n",
              "    .colab-df-container {\n",
              "      display:flex;\n",
              "      flex-wrap:wrap;\n",
              "      gap: 12px;\n",
              "    }\n",
              "\n",
              "    .colab-df-convert {\n",
              "      background-color: #E8F0FE;\n",
              "      border: none;\n",
              "      border-radius: 50%;\n",
              "      cursor: pointer;\n",
              "      display: none;\n",
              "      fill: #1967D2;\n",
              "      height: 32px;\n",
              "      padding: 0 0 0 0;\n",
              "      width: 32px;\n",
              "    }\n",
              "\n",
              "    .colab-df-convert:hover {\n",
              "      background-color: #E2EBFA;\n",
              "      box-shadow: 0px 1px 2px rgba(60, 64, 67, 0.3), 0px 1px 3px 1px rgba(60, 64, 67, 0.15);\n",
              "      fill: #174EA6;\n",
              "    }\n",
              "\n",
              "    [theme=dark] .colab-df-convert {\n",
              "      background-color: #3B4455;\n",
              "      fill: #D2E3FC;\n",
              "    }\n",
              "\n",
              "    [theme=dark] .colab-df-convert:hover {\n",
              "      background-color: #434B5C;\n",
              "      box-shadow: 0px 1px 3px 1px rgba(0, 0, 0, 0.15);\n",
              "      filter: drop-shadow(0px 1px 2px rgba(0, 0, 0, 0.3));\n",
              "      fill: #FFFFFF;\n",
              "    }\n",
              "  </style>\n",
              "\n",
              "      <script>\n",
              "        const buttonEl =\n",
              "          document.querySelector('#df-6c2a238e-982c-482d-b37b-edd42a2fb038 button.colab-df-convert');\n",
              "        buttonEl.style.display =\n",
              "          google.colab.kernel.accessAllowed ? 'block' : 'none';\n",
              "\n",
              "        async function convertToInteractive(key) {\n",
              "          const element = document.querySelector('#df-6c2a238e-982c-482d-b37b-edd42a2fb038');\n",
              "          const dataTable =\n",
              "            await google.colab.kernel.invokeFunction('convertToInteractive',\n",
              "                                                     [key], {});\n",
              "          if (!dataTable) return;\n",
              "\n",
              "          const docLinkHtml = 'Like what you see? Visit the ' +\n",
              "            '<a target=\"_blank\" href=https://colab.research.google.com/notebooks/data_table.ipynb>data table notebook</a>'\n",
              "            + ' to learn more about interactive tables.';\n",
              "          element.innerHTML = '';\n",
              "          dataTable['output_type'] = 'display_data';\n",
              "          await google.colab.output.renderOutput(dataTable, element);\n",
              "          const docLink = document.createElement('div');\n",
              "          docLink.innerHTML = docLinkHtml;\n",
              "          element.appendChild(docLink);\n",
              "        }\n",
              "      </script>\n",
              "    </div>\n",
              "  </div>\n",
              "  "
            ]
          },
          "metadata": {},
          "execution_count": 25
        }
      ]
    },
    {
      "cell_type": "code",
      "execution_count": 26,
      "id": "0d9ef557",
      "metadata": {
        "id": "0d9ef557",
        "colab": {
          "base_uri": "https://localhost:8080/",
          "height": 0
        },
        "outputId": "bc45a20e-5486-41a4-ad41-6a9011a64560"
      },
      "outputs": [
        {
          "output_type": "execute_result",
          "data": {
            "text/plain": [
              "1.0"
            ]
          },
          "metadata": {},
          "execution_count": 26
        }
      ],
      "source": [
        "# check answer / accuracy \n",
        "accuracy = accuracy_score(y_test, y_pred)\n",
        "accuracy  "
      ]
    },
    {
      "cell_type": "code",
      "source": [
        "# FEATURE IMPORTANCE PLOT\n",
        "from xgboost import plot_importance\n",
        "from matplotlib import pyplot\n",
        "\n",
        "plot_importance(model) # plots loadings, you can also make it yourself. But this is from XGB\n",
        "pyplot.show()"
      ],
      "metadata": {
        "colab": {
          "base_uri": "https://localhost:8080/",
          "height": 301
        },
        "id": "mND_nlq7a-_2",
        "outputId": "a81600c1-e6bf-4e22-b206-343b8f6093ea"
      },
      "id": "mND_nlq7a-_2",
      "execution_count": 28,
      "outputs": [
        {
          "output_type": "display_data",
          "data": {
            "text/plain": [
              "<Figure size 432x288 with 1 Axes>"
            ],
            "image/png": "[encoded data removed]"
          },
          "metadata": {}
        }
      ]
    },
    {
      "cell_type": "markdown",
      "source": [
        "Accuracy is 100% and weighting is high on CRP because CRP levels = labels, ie you've already included answer on your training X."
      ],
      "metadata": {
        "id": "dD-Z-1B6fDXC"
      },
      "id": "dD-Z-1B6fDXC"
    },
    {
      "cell_type": "code",
      "source": [
        "########## rerun w new model - w/o CRP as feature col ########\n",
        "\n",
        "# DEFINE FEATURES\n",
        "X_2 = df_z.iloc[: , 1:] # 208 x 26 # from col 1 onwards selected, col 0 is dropped\n",
        "X_2"
      ],
      "metadata": {
        "colab": {
          "base_uri": "https://localhost:8080/",
          "height": 487
        },
        "id": "C_KHbowtcAAw",
        "outputId": "66269cca-a77d-49af-a463-c3e633274918"
      },
      "id": "C_KHbowtcAAw",
      "execution_count": 29,
      "outputs": [
        {
          "output_type": "execute_result",
          "data": {
            "text/plain": [
              "      Eotaxin  Eotaxin3     GMCSF      IFNg      IL10      IL13      IL15  \\\n",
              "0    1.210629 -0.002150  0.121644  0.569337 -0.117863  0.847968  0.670539   \n",
              "1   -0.363245  0.076020 -0.557759 -0.282099 -0.202743       NaN -0.587835   \n",
              "2    1.287081 -0.123481 -1.376693 -1.338247 -0.500252       NaN  0.166955   \n",
              "3   -0.919791 -0.236115 -0.433784  0.037164 -0.583569       NaN -0.488447   \n",
              "4    0.554357  0.549172 -1.044847  0.326401  0.710306  0.298722 -1.615116   \n",
              "..        ...       ...       ...       ...       ...       ...       ...   \n",
              "203  0.394650 -0.666951  1.733543  2.529972  0.846074  0.068722 -0.141159   \n",
              "204 -1.024549 -0.135605 -0.166915  0.275604 -0.586230 -0.031536  0.510206   \n",
              "205 -1.516069 -0.787921  0.531835 -0.064753 -1.205060       NaN -1.000935   \n",
              "206 -0.463606  0.074020 -0.160550 -0.175215  0.067377       NaN -2.439246   \n",
              "207 -0.473249  0.147472  0.642253  1.318513  0.176877       NaN  0.146283   \n",
              "\n",
              "         IL16      IL17      IL1b  ...      IP10      MCP1      MCP4  \\\n",
              "0    0.684703 -1.048995 -0.097378  ...  0.602269  0.877362  2.715387   \n",
              "1   -0.111966  0.826708       NaN  ... -0.089219  0.057617 -0.607317   \n",
              "2    0.628799 -1.956701       NaN  ... -0.170542  0.248868  0.143974   \n",
              "3    0.317450 -0.923244       NaN  ...  0.015432 -0.744859 -0.675338   \n",
              "4   -0.390942 -0.838140       NaN  ... -0.047465  0.253225 -0.942244   \n",
              "..        ...       ...       ...  ...       ...       ...       ...   \n",
              "203  0.074867  0.173285       NaN  ...  1.111525  0.509488 -0.133339   \n",
              "204 -0.443499       NaN       NaN  ...  0.501690  0.382548  0.435031   \n",
              "205 -0.477752 -0.358120       NaN  ... -0.196796 -0.055504 -0.409100   \n",
              "206 -0.328325       NaN       NaN  ... -0.044947  0.377341  0.077046   \n",
              "207 -0.516144  0.587496       NaN  ...  0.584600  0.639168 -0.368427   \n",
              "\n",
              "          MDC     MIP1a     MIP1b      TARC      TNFa      TNFb      VEGF  \n",
              "0   -2.781593  1.261296  2.301529 -2.347156 -4.026748  2.546643       NaN  \n",
              "1    0.556840 -1.012764 -0.174901  0.278647  0.118752 -0.265377 -0.194549  \n",
              "2    0.406764       NaN  0.287116  1.463617 -0.285051 -0.970779  0.394306  \n",
              "3    0.485417 -0.405231 -0.348972 -0.827640 -0.068868 -0.878153 -0.368941  \n",
              "4    0.075451 -0.451006 -0.029038 -0.546272 -0.070114 -0.776131  1.758514  \n",
              "..        ...       ...       ...       ...       ...       ...       ...  \n",
              "203  0.277205  1.372450 -0.067543 -0.112919  0.786119 -0.054592 -0.996613  \n",
              "204  0.059868  0.919473  0.051132  0.079879  0.245427  0.045471 -0.662962  \n",
              "205 -0.047810 -0.035293  0.295767 -0.441234 -0.266343 -0.009556 -0.327122  \n",
              "206  0.301837  0.723295  0.272863  0.199809  0.618983 -1.055253 -1.661385  \n",
              "207  0.295091  0.707812  0.622327  0.051726  0.886276 -0.387490 -1.064942  \n",
              "\n",
              "[208 rows x 26 columns]"
            ],
            "text/html": [
              "\n",
              "  <div id=\"df-bf5ce784-d151-4887-9b12-ce4b6dcfc914\">\n",
              "    <div class=\"colab-df-container\">\n",
              "      <div>\n",
              "<style scoped>\n",
              "    .dataframe tbody tr th:only-of-type {\n",
              "        vertical-align: middle;\n",
              "    }\n",
              "\n",
              "    .dataframe tbody tr th {\n",
              "        vertical-align: top;\n",
              "    }\n",
              "\n",
              "    .dataframe thead th {\n",
              "        text-align: right;\n",
              "    }\n",
              "</style>\n",
              "<table border=\"1\" class=\"dataframe\">\n",
              "  <thead>\n",
              "    <tr style=\"text-align: right;\">\n",
              "      <th></th>\n",
              "      <th>Eotaxin</th>\n",
              "      <th>Eotaxin3</th>\n",
              "      <th>GMCSF</th>\n",
              "      <th>IFNg</th>\n",
              "      <th>IL10</th>\n",
              "      <th>IL13</th>\n",
              "      <th>IL15</th>\n",
              "      <th>IL16</th>\n",
              "      <th>IL17</th>\n",
              "      <th>IL1b</th>\n",
              "      <th>...</th>\n",
              "      <th>IP10</th>\n",
              "      <th>MCP1</th>\n",
              "      <th>MCP4</th>\n",
              "      <th>MDC</th>\n",
              "      <th>MIP1a</th>\n",
              "      <th>MIP1b</th>\n",
              "      <th>TARC</th>\n",
              "      <th>TNFa</th>\n",
              "      <th>TNFb</th>\n",
              "      <th>VEGF</th>\n",
              "    </tr>\n",
              "  </thead>\n",
              "  <tbody>\n",
              "    <tr>\n",
              "      <th>0</th>\n",
              "      <td>1.210629</td>\n",
              "      <td>-0.002150</td>\n",
              "      <td>0.121644</td>\n",
              "      <td>0.569337</td>\n",
              "      <td>-0.117863</td>\n",
              "      <td>0.847968</td>\n",
              "      <td>0.670539</td>\n",
              "      <td>0.684703</td>\n",
              "      <td>-1.048995</td>\n",
              "      <td>-0.097378</td>\n",
              "      <td>...</td>\n",
              "      <td>0.602269</td>\n",
              "      <td>0.877362</td>\n",
              "      <td>2.715387</td>\n",
              "      <td>-2.781593</td>\n",
              "      <td>1.261296</td>\n",
              "      <td>2.301529</td>\n",
              "      <td>-2.347156</td>\n",
              "      <td>-4.026748</td>\n",
              "      <td>2.546643</td>\n",
              "      <td>NaN</td>\n",
              "    </tr>\n",
              "    <tr>\n",
              "      <th>1</th>\n",
              "      <td>-0.363245</td>\n",
              "      <td>0.076020</td>\n",
              "      <td>-0.557759</td>\n",
              "      <td>-0.282099</td>\n",
              "      <td>-0.202743</td>\n",
              "      <td>NaN</td>\n",
              "      <td>-0.587835</td>\n",
              "      <td>-0.111966</td>\n",
              "      <td>0.826708</td>\n",
              "      <td>NaN</td>\n",
              "      <td>...</td>\n",
              "      <td>-0.089219</td>\n",
              "      <td>0.057617</td>\n",
              "      <td>-0.607317</td>\n",
              "      <td>0.556840</td>\n",
              "      <td>-1.012764</td>\n",
              "      <td>-0.174901</td>\n",
              "      <td>0.278647</td>\n",
              "      <td>0.118752</td>\n",
              "      <td>-0.265377</td>\n",
              "      <td>-0.194549</td>\n",
              "    </tr>\n",
              "    <tr>\n",
              "      <th>2</th>\n",
              "      <td>1.287081</td>\n",
              "      <td>-0.123481</td>\n",
              "      <td>-1.376693</td>\n",
              "      <td>-1.338247</td>\n",
              "      <td>-0.500252</td>\n",
              "      <td>NaN</td>\n",
              "      <td>0.166955</td>\n",
              "      <td>0.628799</td>\n",
              "      <td>-1.956701</td>\n",
              "      <td>NaN</td>\n",
              "      <td>...</td>\n",
              "      <td>-0.170542</td>\n",
              "      <td>0.248868</td>\n",
              "      <td>0.143974</td>\n",
              "      <td>0.406764</td>\n",
              "      <td>NaN</td>\n",
              "      <td>0.287116</td>\n",
              "      <td>1.463617</td>\n",
              "      <td>-0.285051</td>\n",
              "      <td>-0.970779</td>\n",
              "      <td>0.394306</td>\n",
              "    </tr>\n",
              "    <tr>\n",
              "      <th>3</th>\n",
              "      <td>-0.919791</td>\n",
              "      <td>-0.236115</td>\n",
              "      <td>-0.433784</td>\n",
              "      <td>0.037164</td>\n",
              "      <td>-0.583569</td>\n",
              "      <td>NaN</td>\n",
              "      <td>-0.488447</td>\n",
              "      <td>0.317450</td>\n",
              "      <td>-0.923244</td>\n",
              "      <td>NaN</td>\n",
              "      <td>...</td>\n",
              "      <td>0.015432</td>\n",
              "      <td>-0.744859</td>\n",
              "      <td>-0.675338</td>\n",
              "      <td>0.485417</td>\n",
              "      <td>-0.405231</td>\n",
              "      <td>-0.348972</td>\n",
              "      <td>-0.827640</td>\n",
              "      <td>-0.068868</td>\n",
              "      <td>-0.878153</td>\n",
              "      <td>-0.368941</td>\n",
              "    </tr>\n",
              "    <tr>\n",
              "      <th>4</th>\n",
              "      <td>0.554357</td>\n",
              "      <td>0.549172</td>\n",
              "      <td>-1.044847</td>\n",
              "      <td>0.326401</td>\n",
              "      <td>0.710306</td>\n",
              "      <td>0.298722</td>\n",
              "      <td>-1.615116</td>\n",
              "      <td>-0.390942</td>\n",
              "      <td>-0.838140</td>\n",
              "      <td>NaN</td>\n",
              "      <td>...</td>\n",
              "      <td>-0.047465</td>\n",
              "      <td>0.253225</td>\n",
              "      <td>-0.942244</td>\n",
              "      <td>0.075451</td>\n",
              "      <td>-0.451006</td>\n",
              "      <td>-0.029038</td>\n",
              "      <td>-0.546272</td>\n",
              "      <td>-0.070114</td>\n",
              "      <td>-0.776131</td>\n",
              "      <td>1.758514</td>\n",
              "    </tr>\n",
              "    <tr>\n",
              "      <th>...</th>\n",
              "      <td>...</td>\n",
              "      <td>...</td>\n",
              "      <td>...</td>\n",
              "      <td>...</td>\n",
              "      <td>...</td>\n",
              "      <td>...</td>\n",
              "      <td>...</td>\n",
              "      <td>...</td>\n",
              "      <td>...</td>\n",
              "      <td>...</td>\n",
              "      <td>...</td>\n",
              "      <td>...</td>\n",
              "      <td>...</td>\n",
              "      <td>...</td>\n",
              "      <td>...</td>\n",
              "      <td>...</td>\n",
              "      <td>...</td>\n",
              "      <td>...</td>\n",
              "      <td>...</td>\n",
              "      <td>...</td>\n",
              "      <td>...</td>\n",
              "    </tr>\n",
              "    <tr>\n",
              "      <th>203</th>\n",
              "      <td>0.394650</td>\n",
              "      <td>-0.666951</td>\n",
              "      <td>1.733543</td>\n",
              "      <td>2.529972</td>\n",
              "      <td>0.846074</td>\n",
              "      <td>0.068722</td>\n",
              "      <td>-0.141159</td>\n",
              "      <td>0.074867</td>\n",
              "      <td>0.173285</td>\n",
              "      <td>NaN</td>\n",
              "      <td>...</td>\n",
              "      <td>1.111525</td>\n",
              "      <td>0.509488</td>\n",
              "      <td>-0.133339</td>\n",
              "      <td>0.277205</td>\n",
              "      <td>1.372450</td>\n",
              "      <td>-0.067543</td>\n",
              "      <td>-0.112919</td>\n",
              "      <td>0.786119</td>\n",
              "      <td>-0.054592</td>\n",
              "      <td>-0.996613</td>\n",
              "    </tr>\n",
              "    <tr>\n",
              "      <th>204</th>\n",
              "      <td>-1.024549</td>\n",
              "      <td>-0.135605</td>\n",
              "      <td>-0.166915</td>\n",
              "      <td>0.275604</td>\n",
              "      <td>-0.586230</td>\n",
              "      <td>-0.031536</td>\n",
              "      <td>0.510206</td>\n",
              "      <td>-0.443499</td>\n",
              "      <td>NaN</td>\n",
              "      <td>NaN</td>\n",
              "      <td>...</td>\n",
              "      <td>0.501690</td>\n",
              "      <td>0.382548</td>\n",
              "      <td>0.435031</td>\n",
              "      <td>0.059868</td>\n",
              "      <td>0.919473</td>\n",
              "      <td>0.051132</td>\n",
              "      <td>0.079879</td>\n",
              "      <td>0.245427</td>\n",
              "      <td>0.045471</td>\n",
              "      <td>-0.662962</td>\n",
              "    </tr>\n",
              "    <tr>\n",
              "      <th>205</th>\n",
              "      <td>-1.516069</td>\n",
              "      <td>-0.787921</td>\n",
              "      <td>0.531835</td>\n",
              "      <td>-0.064753</td>\n",
              "      <td>-1.205060</td>\n",
              "      <td>NaN</td>\n",
              "      <td>-1.000935</td>\n",
              "      <td>-0.477752</td>\n",
              "      <td>-0.358120</td>\n",
              "      <td>NaN</td>\n",
              "      <td>...</td>\n",
              "      <td>-0.196796</td>\n",
              "      <td>-0.055504</td>\n",
              "      <td>-0.409100</td>\n",
              "      <td>-0.047810</td>\n",
              "      <td>-0.035293</td>\n",
              "      <td>0.295767</td>\n",
              "      <td>-0.441234</td>\n",
              "      <td>-0.266343</td>\n",
              "      <td>-0.009556</td>\n",
              "      <td>-0.327122</td>\n",
              "    </tr>\n",
              "    <tr>\n",
              "      <th>206</th>\n",
              "      <td>-0.463606</td>\n",
              "      <td>0.074020</td>\n",
              "      <td>-0.160550</td>\n",
              "      <td>-0.175215</td>\n",
              "      <td>0.067377</td>\n",
              "      <td>NaN</td>\n",
              "      <td>-2.439246</td>\n",
              "      <td>-0.328325</td>\n",
              "      <td>NaN</td>\n",
              "      <td>NaN</td>\n",
              "      <td>...</td>\n",
              "      <td>-0.044947</td>\n",
              "      <td>0.377341</td>\n",
              "      <td>0.077046</td>\n",
              "      <td>0.301837</td>\n",
              "      <td>0.723295</td>\n",
              "      <td>0.272863</td>\n",
              "      <td>0.199809</td>\n",
              "      <td>0.618983</td>\n",
              "      <td>-1.055253</td>\n",
              "      <td>-1.661385</td>\n",
              "    </tr>\n",
              "    <tr>\n",
              "      <th>207</th>\n",
              "      <td>-0.473249</td>\n",
              "      <td>0.147472</td>\n",
              "      <td>0.642253</td>\n",
              "      <td>1.318513</td>\n",
              "      <td>0.176877</td>\n",
              "      <td>NaN</td>\n",
              "      <td>0.146283</td>\n",
              "      <td>-0.516144</td>\n",
              "      <td>0.587496</td>\n",
              "      <td>NaN</td>\n",
              "      <td>...</td>\n",
              "      <td>0.584600</td>\n",
              "      <td>0.639168</td>\n",
              "      <td>-0.368427</td>\n",
              "      <td>0.295091</td>\n",
              "      <td>0.707812</td>\n",
              "      <td>0.622327</td>\n",
              "      <td>0.051726</td>\n",
              "      <td>0.886276</td>\n",
              "      <td>-0.387490</td>\n",
              "      <td>-1.064942</td>\n",
              "    </tr>\n",
              "  </tbody>\n",
              "</table>\n",
              "<p>208 rows × 26 columns</p>\n",
              "</div>\n",
              "      <button class=\"colab-df-convert\" onclick=\"convertToInteractive('df-bf5ce784-d151-4887-9b12-ce4b6dcfc914')\"\n",
              "              title=\"Convert this dataframe to an interactive table.\"\n",
              "              style=\"display:none;\">\n",
              "        \n",
              "  <svg xmlns=\"http://www.w3.org/2000/svg\" height=\"24px\"viewBox=\"0 0 24 24\"\n",
              "       width=\"24px\">\n",
              "    <path d=\"M0 0h24v24H0V0z\" fill=\"none\"/>\n",
              "    <path d=\"M18.56 5.44l.94 2.06.94-2.06 2.06-.94-2.06-.94-.94-2.06-.94 2.06-2.06.94zm-11 1L8.5 8.5l.94-2.06 2.06-.94-2.06-.94L8.5 2.5l-.94 2.06-2.06.94zm10 10l.94 2.06.94-2.06 2.06-.94-2.06-.94-.94-2.06-.94 2.06-2.06.94z\"/><path d=\"M17.41 7.96l-1.37-1.37c-.4-.4-.92-.59-1.43-.59-.52 0-1.04.2-1.43.59L10.3 9.45l-7.72 7.72c-.78.78-.78 2.05 0 2.83L4 21.41c.39.39.9.59 1.41.59.51 0 1.02-.2 1.41-.59l7.78-7.78 2.81-2.81c.8-.78.8-2.07 0-2.86zM5.41 20L4 18.59l7.72-7.72 1.47 1.35L5.41 20z\"/>\n",
              "  </svg>\n",
              "      </button>\n",
              "      \n",
              "  <style>\n",
              "    .colab-df-container {\n",
              "      display:flex;\n",
              "      flex-wrap:wrap;\n",
              "      gap: 12px;\n",
              "    }\n",
              "\n",
              "    .colab-df-convert {\n",
              "      background-color: #E8F0FE;\n",
              "      border: none;\n",
              "      border-radius: 50%;\n",
              "      cursor: pointer;\n",
              "      display: none;\n",
              "      fill: #1967D2;\n",
              "      height: 32px;\n",
              "      padding: 0 0 0 0;\n",
              "      width: 32px;\n",
              "    }\n",
              "\n",
              "    .colab-df-convert:hover {\n",
              "      background-color: #E2EBFA;\n",
              "      box-shadow: 0px 1px 2px rgba(60, 64, 67, 0.3), 0px 1px 3px 1px rgba(60, 64, 67, 0.15);\n",
              "      fill: #174EA6;\n",
              "    }\n",
              "\n",
              "    [theme=dark] .colab-df-convert {\n",
              "      background-color: #3B4455;\n",
              "      fill: #D2E3FC;\n",
              "    }\n",
              "\n",
              "    [theme=dark] .colab-df-convert:hover {\n",
              "      background-color: #434B5C;\n",
              "      box-shadow: 0px 1px 3px 1px rgba(0, 0, 0, 0.15);\n",
              "      filter: drop-shadow(0px 1px 2px rgba(0, 0, 0, 0.3));\n",
              "      fill: #FFFFFF;\n",
              "    }\n",
              "  </style>\n",
              "\n",
              "      <script>\n",
              "        const buttonEl =\n",
              "          document.querySelector('#df-bf5ce784-d151-4887-9b12-ce4b6dcfc914 button.colab-df-convert');\n",
              "        buttonEl.style.display =\n",
              "          google.colab.kernel.accessAllowed ? 'block' : 'none';\n",
              "\n",
              "        async function convertToInteractive(key) {\n",
              "          const element = document.querySelector('#df-bf5ce784-d151-4887-9b12-ce4b6dcfc914');\n",
              "          const dataTable =\n",
              "            await google.colab.kernel.invokeFunction('convertToInteractive',\n",
              "                                                     [key], {});\n",
              "          if (!dataTable) return;\n",
              "\n",
              "          const docLinkHtml = 'Like what you see? Visit the ' +\n",
              "            '<a target=\"_blank\" href=https://colab.research.google.com/notebooks/data_table.ipynb>data table notebook</a>'\n",
              "            + ' to learn more about interactive tables.';\n",
              "          element.innerHTML = '';\n",
              "          dataTable['output_type'] = 'display_data';\n",
              "          await google.colab.output.renderOutput(dataTable, element);\n",
              "          const docLink = document.createElement('div');\n",
              "          docLink.innerHTML = docLinkHtml;\n",
              "          element.appendChild(docLink);\n",
              "        }\n",
              "      </script>\n",
              "    </div>\n",
              "  </div>\n",
              "  "
            ]
          },
          "metadata": {},
          "execution_count": 29
        }
      ]
    },
    {
      "cell_type": "code",
      "source": [
        "#split in train and test \n",
        "X_train2, X_test2, y_train2, y_test2 = train_test_split(X_2, y2, test_size=0.3, random_state=1) "
      ],
      "metadata": {
        "id": "EkLhAsKgdAON"
      },
      "id": "EkLhAsKgdAON",
      "execution_count": 30,
      "outputs": []
    },
    {
      "cell_type": "code",
      "source": [
        "# fit model on new data\n",
        "model.fit(X_train2, y_train2)"
      ],
      "metadata": {
        "colab": {
          "base_uri": "https://localhost:8080/",
          "height": 0
        },
        "id": "X1IqQbzydPws",
        "outputId": "729ac861-98d7-4c72-cae7-6990350e0aef"
      },
      "id": "X1IqQbzydPws",
      "execution_count": 31,
      "outputs": [
        {
          "output_type": "stream",
          "name": "stdout",
          "text": [
            "[18:13:46] WARNING: ../src/learner.cc:1095: Starting in XGBoost 1.3.0, the default evaluation metric used with the objective 'binary:logistic' was changed from 'error' to 'logloss'. Explicitly set eval_metric if you'd like to restore the old behavior.\n"
          ]
        },
        {
          "output_type": "stream",
          "name": "stderr",
          "text": [
            "/usr/local/lib/python3.7/dist-packages/xgboost/sklearn.py:1146: UserWarning: The use of label encoder in XGBClassifier is deprecated and will be removed in a future release. To remove this warning, do the following: 1) Pass option use_label_encoder=False when constructing XGBClassifier object; and 2) Encode your labels (y) as integers starting with 0, i.e. 0, 1, 2, ..., [num_class - 1].\n",
            "  warnings.warn(label_encoder_deprecation_msg, UserWarning)\n",
            "/usr/local/lib/python3.7/dist-packages/sklearn/preprocessing/_label.py:98: DataConversionWarning: A column-vector y was passed when a 1d array was expected. Please change the shape of y to (n_samples, ), for example using ravel().\n",
            "  y = column_or_1d(y, warn=True)\n",
            "/usr/local/lib/python3.7/dist-packages/sklearn/preprocessing/_label.py:133: DataConversionWarning: A column-vector y was passed when a 1d array was expected. Please change the shape of y to (n_samples, ), for example using ravel().\n",
            "  y = column_or_1d(y, warn=True)\n"
          ]
        },
        {
          "output_type": "execute_result",
          "data": {
            "text/plain": [
              "XGBClassifier(base_score=0.5, booster='gbtree', colsample_bylevel=1,\n",
              "              colsample_bynode=1, colsample_bytree=1, gamma=0, gpu_id=-1,\n",
              "              importance_type='gain', interaction_constraints='',\n",
              "              learning_rate=0.300000012, max_delta_step=0, max_depth=6,\n",
              "              min_child_weight=1, missing=nan, monotone_constraints='()',\n",
              "              n_estimators=100, n_jobs=2, num_parallel_tree=1, random_state=0,\n",
              "              reg_alpha=0, reg_lambda=1, scale_pos_weight=1, subsample=1,\n",
              "              tree_method='exact', validate_parameters=1, verbosity=None)"
            ]
          },
          "metadata": {},
          "execution_count": 31
        }
      ]
    },
    {
      "cell_type": "code",
      "source": [
        "# predict / apply on test data\n",
        "y_pred2 = model.predict(X_test2) # only provide X, because y_test contains our answer labels\n",
        "y_pred2"
      ],
      "metadata": {
        "colab": {
          "base_uri": "https://localhost:8080/",
          "height": 0
        },
        "id": "5b2_85XWdiWM",
        "outputId": "f4206eff-4848-49d8-a13a-1a5c6537fa8d"
      },
      "id": "5b2_85XWdiWM",
      "execution_count": 32,
      "outputs": [
        {
          "output_type": "stream",
          "name": "stderr",
          "text": [
            "/usr/local/lib/python3.7/dist-packages/xgboost/data.py:114: UserWarning: Use subset (sliced data) of np.ndarray is not recommended because it will generate extra copies and increase memory consumption\n",
            "  \"because it will generate extra copies and increase \" +\n"
          ]
        },
        {
          "output_type": "execute_result",
          "data": {
            "text/plain": [
              "array([1, 0, 1, 1, 1, 1, 1, 0, 1, 0, 1, 0, 1, 1, 1, 0, 1, 1, 0, 0, 1, 0,\n",
              "       1, 1, 0, 1, 1, 1, 1, 1, 0, 1, 1, 1, 1, 0, 0, 1, 1, 1, 1, 1, 1, 1,\n",
              "       1, 1, 0, 1, 1, 1, 1, 1, 0, 1, 0, 1, 0, 0, 0, 1, 1, 1, 0])"
            ]
          },
          "metadata": {},
          "execution_count": 32
        }
      ]
    },
    {
      "cell_type": "code",
      "source": [
        "# REAL answers / labels (Low inflammation = 1, High inflammation = 0) # classes are not balanced ie 50-50\n",
        "unique, counts = np.unique(y_test2, return_counts=True)\n",
        "np.asarray((unique, counts)).T"
      ],
      "metadata": {
        "colab": {
          "base_uri": "https://localhost:8080/",
          "height": 0
        },
        "id": "DnAD2sltpStd",
        "outputId": "8d182573-66ab-4c51-ba8f-8f4d4bc61e89"
      },
      "id": "DnAD2sltpStd",
      "execution_count": 36,
      "outputs": [
        {
          "output_type": "execute_result",
          "data": {
            "text/plain": [
              "array([[ 0, 14],\n",
              "       [ 1, 49]])"
            ]
          },
          "metadata": {},
          "execution_count": 36
        }
      ]
    },
    {
      "cell_type": "code",
      "source": [
        "# ACCURACY (total correct preds / total number of predictions; [TP + TN] / [TP + TN + FP + FN])\n",
        "accuracy = accuracy_score(y_test2, y_pred2)\n",
        "accuracy  "
      ],
      "metadata": {
        "colab": {
          "base_uri": "https://localhost:8080/",
          "height": 0
        },
        "id": "XoJgMCkbd3DZ",
        "outputId": "982a6e90-8cb7-4076-9170-104d51502205"
      },
      "id": "XoJgMCkbd3DZ",
      "execution_count": 37,
      "outputs": [
        {
          "output_type": "execute_result",
          "data": {
            "text/plain": [
              "0.7301587301587301"
            ]
          },
          "metadata": {},
          "execution_count": 37
        }
      ]
    },
    {
      "cell_type": "markdown",
      "source": [
        "Accuracy of 0.73 or 73% appears good. But, this is a class-imbalanced dataset (see previous cell with true label counts) ie there is a significant disparity between the number of positive(1) and negative(0) labels. So, in an imbalanced dataset, high accuracy could be heavily weighted or biased on accuracy of prediction of one label over another, when in reality - for the other (smaller) class - correct classification was actually poor.\n",
        "\n",
        "Better metrics for imbalanced dataset: *Precision* and *Recall*."
      ],
      "metadata": {
        "id": "zb3j3_LUpBuE"
      },
      "id": "zb3j3_LUpBuE"
    },
    {
      "cell_type": "code",
      "source": [
        "# Report with all metrics \n",
        "from sklearn.metrics import classification_report\n",
        "print(classification_report(y_test2, y_pred2)) # ground truth labels vs prediction by classifier"
      ],
      "metadata": {
        "id": "DFsqu4oiQhLJ",
        "colab": {
          "base_uri": "https://localhost:8080/",
          "height": 0
        },
        "outputId": "819458c4-6142-49fe-cb5f-8c1343ce3688"
      },
      "id": "DFsqu4oiQhLJ",
      "execution_count": 34,
      "outputs": [
        {
          "output_type": "stream",
          "name": "stdout",
          "text": [
            "              precision    recall  f1-score   support\n",
            "\n",
            "           0       0.42      0.57      0.48        14\n",
            "           1       0.86      0.78      0.82        49\n",
            "\n",
            "    accuracy                           0.73        63\n",
            "   macro avg       0.64      0.67      0.65        63\n",
            "weighted avg       0.77      0.73      0.74        63\n",
            "\n"
          ]
        }
      ]
    },
    {
      "cell_type": "markdown",
      "source": [
        "Typically, recall and precision for label=1 (in this case \"Low inflammation\") is more commonly examined rather for both labels."
      ],
      "metadata": {
        "id": "rPojYItpiHd5"
      },
      "id": "rPojYItpiHd5"
    },
    {
      "cell_type": "code",
      "source": [
        "# RECALL (SENSITIVITY) - proportions of True Pos from all ACTUAL positives (here TP is label=1) [formula: TP / (TP + FN)]\n",
        "from sklearn.metrics import recall_score \n",
        "recall_score(y_test2,y_pred2)"
      ],
      "metadata": {
        "colab": {
          "base_uri": "https://localhost:8080/",
          "height": 0
        },
        "id": "ltNplhbD-Ebp",
        "outputId": "93b54126-8511-4b74-b70a-469cf8c7d555"
      },
      "id": "ltNplhbD-Ebp",
      "execution_count": 45,
      "outputs": [
        {
          "output_type": "execute_result",
          "data": {
            "text/plain": [
              "0.7755102040816326"
            ]
          },
          "metadata": {},
          "execution_count": 45
        }
      ]
    },
    {
      "cell_type": "markdown",
      "source": [
        "Our model has a recall of 0.78 - it correctly identified 78% of \"Low inflammation\" MDD patients. *(see normalized confusion matrix - corresponds with LowerRight quadrant; TP)*."
      ],
      "metadata": {
        "id": "0-6DkVYKlwUm"
      },
      "id": "0-6DkVYKlwUm"
    },
    {
      "cell_type": "code",
      "source": [
        "# PRECISION - proportions of True Pos from all IDENTIFIED as positive (here TP is label=1) [formula: TP / (TP + FP)]\n",
        "from sklearn.metrics import precision_score \n",
        "precision_score(y_test2,y_pred2)"
      ],
      "metadata": {
        "colab": {
          "base_uri": "https://localhost:8080/",
          "height": 0
        },
        "outputId": "643fda82-6b5d-43a3-f5c4-7fe5a753a2f0",
        "id": "vfPwJ6PQ-wWv"
      },
      "execution_count": 46,
      "outputs": [
        {
          "output_type": "execute_result",
          "data": {
            "text/plain": [
              "0.8636363636363636"
            ]
          },
          "metadata": {},
          "execution_count": 46
        }
      ],
      "id": "vfPwJ6PQ-wWv"
    },
    {
      "cell_type": "markdown",
      "source": [
        "Our model has a precision of 0.86 - in other words, when it predicts \"low inflammation\" in an MDD patient or classifies an MDD patient as \"Low inflammation\", it is correct 86% of the time."
      ],
      "metadata": {
        "id": "fz68LPoglCOC"
      },
      "id": "fz68LPoglCOC"
    },
    {
      "cell_type": "code",
      "source": [
        "# PRECISION-RECALL CURVE (for 2-labels/ binary classifier) https://scikit-learn.org/stable/auto_examples/model_selection/plot_precision_recall.html\n",
        "from sklearn.metrics import PrecisionRecallDisplay\n",
        "\n",
        "display = PrecisionRecallDisplay.from_estimator(\n",
        "    model, X_test2, y_test2, name=\"XGBclassifier\"\n",
        ")\n",
        "_ = display.ax_.set_title(\"2-class Precision-Recall curve\") \n",
        "\n",
        "# model is your classifer defined earlier / fitted to data\n"
      ],
      "metadata": {
        "colab": {
          "base_uri": "https://localhost:8080/",
          "height": 350
        },
        "id": "exN8m3cdk2u1",
        "outputId": "3a34ded3-fc05-4f01-d831-22383b58f2a4"
      },
      "id": "exN8m3cdk2u1",
      "execution_count": 29,
      "outputs": [
        {
          "output_type": "stream",
          "name": "stderr",
          "text": [
            "/usr/local/lib/python3.7/dist-packages/xgboost/data.py:114: UserWarning: Use subset (sliced data) of np.ndarray is not recommended because it will generate extra copies and increase memory consumption\n",
            "  \"because it will generate extra copies and increase \" +\n"
          ]
        },
        {
          "output_type": "display_data",
          "data": {
            "text/plain": [
              "<Figure size 432x288 with 1 Axes>"
            ],
            "image/png": "[encoded data removed]"
          },
          "metadata": {
            "needs_background": "light"
          }
        }
      ]
    },
    {
      "cell_type": "markdown",
      "source": [
        "Interpretation: this curve is useful to examine trade-off in precision made when desiring high recall. From this curve, as recall increases ( > 0.5 or 50%), there is a sharp decline in precision. However, because XGB is a good model, here you are able to attain 1.0 or 100% recall *without* comprising too much on precision ie you still get precision approx 81% at recall 100%. "
      ],
      "metadata": {
        "id": "lxfsqURXi1GY"
      },
      "id": "lxfsqURXi1GY"
    },
    {
      "cell_type": "code",
      "source": [
        "# CONFUSION MATRIX ie indication of errors in classification / \"confusion\" experienced by classifier\n",
        "\n",
        "from sklearn.metrics import confusion_matrix\n",
        " \n",
        "expected = y_test2\n",
        "predicted = y_pred2\n",
        "#results = confusion_matrix(expected, predicted)\n",
        "#print(results)\n",
        "tn, fp, fn, tp = confusion_matrix(expected, predicted).ravel()\n",
        "tn, fp, fn, tp"
      ],
      "metadata": {
        "colab": {
          "base_uri": "https://localhost:8080/",
          "height": 0
        },
        "id": "UhoAzhNbskoS",
        "outputId": "79bf51da-1298-4920-be7b-9b72fda89ffe"
      },
      "id": "UhoAzhNbskoS",
      "execution_count": 30,
      "outputs": [
        {
          "output_type": "execute_result",
          "data": {
            "text/plain": [
              "(8, 6, 11, 38)"
            ]
          },
          "metadata": {},
          "execution_count": 30
        }
      ]
    },
    {
      "cell_type": "code",
      "source": [
        "# Confusion matrix plot \n",
        "\n",
        "import matplotlib.pyplot as plt\n",
        "from sklearn.metrics import ConfusionMatrixDisplay\n",
        "\n",
        "class_names = [\"hiCRP_0\", \"loCRP_1\"] # 1 = positive, 0 = negative... how do labels work ?\n",
        "\n",
        "title_options = [\n",
        "    (\"Confusion matrix, without normalization\", None),\n",
        "    (\"Normalized confusion matrix\", \"true\"),\n",
        "]\n",
        "for title, normalize in title_options:\n",
        "    display = ConfusionMatrixDisplay.from_estimator(\n",
        "        model,\n",
        "        X_test2,\n",
        "        y_test2,\n",
        "        display_labels=class_names,\n",
        "        cmap=plt.cm.Blues,\n",
        "        normalize=normalize,\n",
        "    )\n",
        "    display.ax_.set_title(title)\n",
        "\n",
        "    print(title)\n",
        "    print(display.confusion_matrix)\n",
        "\n",
        "plt.show() # UpperL = TN, LowerL = FN, UR = FP, LR = TP (see if it matches output in prev cell)"
      ],
      "metadata": {
        "colab": {
          "base_uri": "https://localhost:8080/",
          "height": 773
        },
        "id": "ruP7pYVLvhWC",
        "outputId": "6e3d6ef9-0059-485f-fe61-94021bc34fe0"
      },
      "id": "ruP7pYVLvhWC",
      "execution_count": 31,
      "outputs": [
        {
          "output_type": "stream",
          "name": "stdout",
          "text": [
            "Confusion matrix, without normalization\n",
            "[[ 8  6]\n",
            " [11 38]]\n",
            "Normalized confusion matrix\n",
            "[[0.57142857 0.42857143]\n",
            " [0.2244898  0.7755102 ]]\n"
          ]
        },
        {
          "output_type": "stream",
          "name": "stderr",
          "text": [
            "/usr/local/lib/python3.7/dist-packages/xgboost/data.py:114: UserWarning: Use subset (sliced data) of np.ndarray is not recommended because it will generate extra copies and increase memory consumption\n",
            "  \"because it will generate extra copies and increase \" +\n",
            "/usr/local/lib/python3.7/dist-packages/xgboost/data.py:114: UserWarning: Use subset (sliced data) of np.ndarray is not recommended because it will generate extra copies and increase memory consumption\n",
            "  \"because it will generate extra copies and increase \" +\n"
          ]
        },
        {
          "output_type": "display_data",
          "data": {
            "text/plain": [
              "<Figure size 432x288 with 2 Axes>"
            ],
            "image/png": "[encoded data removed]"
          },
          "metadata": {
            "needs_background": "light"
          }
        },
        {
          "output_type": "display_data",
          "data": {
            "text/plain": [
              "<Figure size 432x288 with 2 Axes>"
            ],
            "image/png": "[encoded data removed]"
          },
          "metadata": {
            "needs_background": "light"
          }
        }
      ]
    },
    {
      "cell_type": "code",
      "source": [
        "# FEATURE IMPORTANCE\n",
        "plot_importance(model) # check form xgb, normalize the F_score \n",
        "pyplot.show()"
      ],
      "metadata": {
        "colab": {
          "base_uri": "https://localhost:8080/",
          "height": 295
        },
        "id": "1L74-g3od8Ml",
        "outputId": "afda69d1-aff1-45af-d616-0ebc1ba66d6f"
      },
      "id": "1L74-g3od8Ml",
      "execution_count": 32,
      "outputs": [
        {
          "output_type": "display_data",
          "data": {
            "text/plain": [
              "<Figure size 432x288 with 1 Axes>"
            ],
            "image/png": "[encoded data removed]"
          },
          "metadata": {
            "needs_background": "light"
          }
        }
      ]
    },
    {
      "cell_type": "markdown",
      "source": [
        "After dropping CRP (feature that label was derived from), IL6 is(quite accurately) weighing heavily towards label prediction. CRP is biologically highly correlated w IL6. \n",
        "\n",
        "F-score (aka F1-score) "
      ],
      "metadata": {
        "id": "pv1Vk5aTfu3y"
      },
      "id": "pv1Vk5aTfu3y"
    },
    {
      "cell_type": "markdown",
      "source": [
        "⚡⚡⚡⚡⚡⚡⚡⚡⚡⚡⚡⚡⚡⚡⚡⚡⚡⚡⚡⚡⚡ **CLUSTERING**"
      ],
      "metadata": {
        "id": "nr1dgxVIvbKv"
      },
      "id": "nr1dgxVIvbKv"
    },
    {
      "cell_type": "code",
      "source": [
        "############## CLUSTERING W GMM ################\n",
        "\n",
        "#load libraries\n",
        "from sklearn.impute import SimpleImputer\n",
        "from sklearn import mixture\n",
        "import matplotlib.pyplot as plt\n"
      ],
      "metadata": {
        "id": "M6t13wz_giTC"
      },
      "id": "M6t13wz_giTC",
      "execution_count": 33,
      "outputs": []
    },
    {
      "cell_type": "code",
      "source": [
        "# prep data \n",
        "X_gmm = df_z.copy()\n",
        "\n",
        "# simple imputation (univariate)\n",
        "imputer = SimpleImputer(strategy='median', missing_values=np.nan) # initialize imputer, use mean, look for NaN\n",
        "imputer = imputer.fit(X_gmm) # fit on data\n"
      ],
      "metadata": {
        "id": "TQMkqgnGgtSZ"
      },
      "id": "TQMkqgnGgtSZ",
      "execution_count": 34,
      "outputs": []
    },
    {
      "cell_type": "code",
      "source": [
        "# apply imputer on data\n",
        "X_gmm = imputer.transform(X_gmm)\n",
        "X_gmm # data to input "
      ],
      "metadata": {
        "colab": {
          "base_uri": "https://localhost:8080/",
          "height": 0
        },
        "id": "BZfAU7_PjI_7",
        "outputId": "2801f473-85b7-4e29-9e0b-b235d13535b1"
      },
      "id": "BZfAU7_PjI_7",
      "execution_count": 35,
      "outputs": [
        {
          "output_type": "execute_result",
          "data": {
            "text/plain": [
              "array([[-1.14271869e+00,  1.21062859e+00, -2.14951807e-03, ...,\n",
              "        -4.02674805e+00,  2.54664268e+00,  1.54694333e-02],\n",
              "       [ 2.00249801e-01, -3.63244812e-01,  7.60203812e-02, ...,\n",
              "         1.18751982e-01, -2.65377434e-01, -1.94548869e-01],\n",
              "       [-1.14271869e+00,  1.28708141e+00, -1.23480702e-01, ...,\n",
              "        -2.85050610e-01, -9.70779492e-01,  3.94305805e-01],\n",
              "       ...,\n",
              "       [-2.90428083e-01, -1.51606902e+00, -7.87921407e-01, ...,\n",
              "        -2.66342994e-01, -9.55575924e-03, -3.27122480e-01],\n",
              "       [-1.14271869e+00, -4.63606154e-01,  7.40203483e-02, ...,\n",
              "         6.18983486e-01, -1.05525278e+00, -1.66138489e+00],\n",
              "       [ 6.54617237e-01, -4.73248960e-01,  1.47472195e-01, ...,\n",
              "         8.86275607e-01, -3.87489793e-01, -1.06494158e+00]])"
            ]
          },
          "metadata": {},
          "execution_count": 35
        }
      ]
    },
    {
      "cell_type": "code",
      "source": [
        "# run GMM \n",
        "gmm = mixture.GaussianMixture(n_components=3).fit(X_gmm) # you do not need to know prior\n",
        "labels = gmm.predict(X_gmm)\n",
        "plt.scatter(X_gmm[:, 0], X_gmm[:, 1], c=labels, s=40, cmap='viridis'); # you're plotting col 1 and col 2 from array"
      ],
      "metadata": {
        "colab": {
          "base_uri": "https://localhost:8080/",
          "height": 265
        },
        "id": "y6tR_T8JhQbK",
        "outputId": "fef67230-8471-4bda-9085-94d0e8e01255"
      },
      "id": "y6tR_T8JhQbK",
      "execution_count": 36,
      "outputs": [
        {
          "output_type": "display_data",
          "data": {
            "text/plain": [
              "<Figure size 432x288 with 1 Axes>"
            ],
            "image/png": "[encoded data removed]"
          },
          "metadata": {
            "needs_background": "light"
          }
        }
      ]
    },
    {
      "cell_type": "code",
      "source": [
        "labels"
      ],
      "metadata": {
        "colab": {
          "base_uri": "https://localhost:8080/",
          "height": 0
        },
        "id": "AfyNY8hINjMg",
        "outputId": "300114c7-e724-4b05-d5b4-63d8c432653c"
      },
      "id": "AfyNY8hINjMg",
      "execution_count": 37,
      "outputs": [
        {
          "output_type": "execute_result",
          "data": {
            "text/plain": [
              "array([2, 1, 0, 1, 0, 1, 1, 1, 1, 1, 1, 1, 0, 0, 0, 1, 1, 0, 0, 0, 1, 0,\n",
              "       0, 0, 0, 1, 1, 1, 1, 1, 0, 1, 1, 0, 0, 1, 0, 0, 0, 0, 0, 0, 0, 1,\n",
              "       0, 1, 1, 0, 1, 0, 0, 0, 1, 0, 1, 1, 1, 0, 2, 0, 2, 1, 0, 0, 0, 2,\n",
              "       2, 1, 0, 0, 0, 2, 0, 1, 2, 2, 0, 0, 0, 1, 1, 0, 2, 1, 0, 1, 2, 0,\n",
              "       0, 0, 1, 2, 0, 2, 2, 1, 1, 0, 1, 0, 0, 0, 0, 1, 0, 1, 0, 0, 1, 1,\n",
              "       1, 1, 1, 0, 2, 1, 0, 0, 0, 1, 0, 0, 0, 1, 0, 1, 1, 0, 1, 1, 1, 1,\n",
              "       1, 0, 1, 1, 1, 0, 0, 1, 1, 1, 0, 0, 1, 0, 0, 0, 0, 0, 0, 0, 0, 0,\n",
              "       0, 1, 0, 0, 0, 1, 1, 0, 1, 0, 0, 0, 1, 0, 0, 0, 0, 1, 0, 1, 0, 2,\n",
              "       1, 0, 0, 1, 1, 1, 0, 1, 0, 1, 1, 1, 0, 0, 0, 1, 1, 0, 1, 0, 1, 1,\n",
              "       1, 1, 2, 1, 0, 0, 0, 0, 1, 0])"
            ]
          },
          "metadata": {},
          "execution_count": 37
        }
      ]
    },
    {
      "cell_type": "code",
      "source": [
        "# perform dimensionality reduction across all features \n",
        "\n",
        "from sklearn.decomposition import PCA\n",
        "\n",
        "df_X_gmm = pd.DataFrame(X_gmm) \n"
      ],
      "metadata": {
        "id": "GvOzi1MyOu_-"
      },
      "id": "GvOzi1MyOu_-",
      "execution_count": 38,
      "outputs": []
    },
    {
      "cell_type": "code",
      "source": [
        "pca = PCA(n_components=24) # 25 cols (w/o CRP); your model where you will find EV, loadings etc\n",
        "principalComponents = pca.fit_transform(df_X_gmm) # fit model on data"
      ],
      "metadata": {
        "id": "QwrSl7GFQnJq"
      },
      "id": "QwrSl7GFQnJq",
      "execution_count": 39,
      "outputs": []
    },
    {
      "cell_type": "code",
      "source": [
        "principalComponents"
      ],
      "metadata": {
        "colab": {
          "base_uri": "https://localhost:8080/",
          "height": 0
        },
        "id": "bwBlycQcRfeY",
        "outputId": "f98a32fa-5164-4591-965f-a07f620149ac"
      },
      "id": "bwBlycQcRfeY",
      "execution_count": 40,
      "outputs": [
        {
          "output_type": "execute_result",
          "data": {
            "text/plain": [
              "array([[ 7.72620887, -1.79445143, -1.19361892, ..., -0.06981422,\n",
              "        -0.30132757,  0.26766963],\n",
              "       [-1.10087614,  0.31750502,  0.48951535, ...,  0.18577945,\n",
              "        -0.23631222,  0.42445361],\n",
              "       [-1.30587912, -2.29263681, -1.48777242, ...,  0.21259619,\n",
              "         0.26375262,  0.01920275],\n",
              "       ...,\n",
              "       [-0.33568263,  0.65465551, -1.38971117, ..., -0.04814284,\n",
              "        -0.52967431,  0.48491331],\n",
              "       [-0.77767573, -0.22507627, -0.70786786, ...,  0.44534022,\n",
              "         0.15395763, -0.13094849],\n",
              "       [ 0.05661849,  0.53033416,  2.02314365, ...,  0.1267407 ,\n",
              "        -0.09293899,  0.32216715]])"
            ]
          },
          "metadata": {},
          "execution_count": 40
        }
      ]
    },
    {
      "cell_type": "code",
      "source": [
        "principalDf = pd.DataFrame(data = principalComponents\n",
        "             , columns = ['PC1','PC2','PC3','PC4','PC5','PC6','PC7','PC8','PC9','PC10',\n",
        "                          'PC11','PC12','PC13','PC14','PC15','PC16','PC17','PC18','PC19','PC20','PC21','PC22',\n",
        "                          'PC23','PC24'])"
      ],
      "metadata": {
        "id": "9Jf_mB-0QSX5"
      },
      "id": "9Jf_mB-0QSX5",
      "execution_count": 41,
      "outputs": []
    },
    {
      "cell_type": "code",
      "source": [
        "# biplot - PC scores, with cluster labels coloured\n",
        "\n",
        "# make df to plot\n",
        "toplot = principalDf.copy()\n",
        "toplot['GMM_labels'] = labels\n",
        "\n",
        "toplot.head()"
      ],
      "metadata": {
        "colab": {
          "base_uri": "https://localhost:8080/",
          "height": 299
        },
        "id": "a5u78smIPAma",
        "outputId": "2608ea84-f964-4323-ef72-81fdaf8ff1ec"
      },
      "id": "a5u78smIPAma",
      "execution_count": 42,
      "outputs": [
        {
          "output_type": "execute_result",
          "data": {
            "text/plain": [
              "        PC1       PC2       PC3       PC4       PC5       PC6       PC7  \\\n",
              "0  7.726209 -1.794451 -1.193619  0.129696 -0.711770  1.385919 -0.822583   \n",
              "1 -1.100876  0.317505  0.489515  0.153209  1.015954 -0.110409  0.199929   \n",
              "2 -1.305879 -2.292637 -1.487772  0.795299 -0.920676  1.308988 -0.836859   \n",
              "3 -1.180062  0.393263 -1.814345 -0.460742 -0.293029 -1.144645 -0.489941   \n",
              "4 -0.529381 -0.805218 -0.893270  1.537399 -0.309708 -1.921205 -0.432234   \n",
              "\n",
              "        PC8       PC9      PC10  ...      PC16      PC17      PC18      PC19  \\\n",
              "0  1.129075 -0.847572  0.204621  ...  1.662561  0.222568  0.232845  0.569496   \n",
              "1  0.208259 -1.624829  0.391925  ...  0.938952 -0.399760  0.061244 -0.217081   \n",
              "2 -0.860651 -0.126263 -0.408990  ... -0.651555 -0.328567  0.431962 -0.270342   \n",
              "3  0.065831  0.240849  0.623819  ... -0.076200  0.008011 -0.623849 -0.258389   \n",
              "4  0.354910  0.748692 -1.138925  ... -0.039368  0.618098 -0.047075 -0.101818   \n",
              "\n",
              "       PC20      PC21      PC22      PC23      PC24  GMM_labels  \n",
              "0  0.124713 -0.047197 -0.069814 -0.301328  0.267670           2  \n",
              "1 -0.129416 -0.057701  0.185779 -0.236312  0.424454           1  \n",
              "2 -0.088899  0.175215  0.212596  0.263753  0.019203           0  \n",
              "3  0.056169  0.219320  0.297428  0.116926 -0.469678           1  \n",
              "4  0.404955  0.711284 -0.246795  0.336573  0.378870           0  \n",
              "\n",
              "[5 rows x 25 columns]"
            ],
            "text/html": [
              "\n",
              "  <div id=\"df-fb4f7d28-ffa1-4f33-9f84-27f451644be3\">\n",
              "    <div class=\"colab-df-container\">\n",
              "      <div>\n",
              "<style scoped>\n",
              "    .dataframe tbody tr th:only-of-type {\n",
              "        vertical-align: middle;\n",
              "    }\n",
              "\n",
              "    .dataframe tbody tr th {\n",
              "        vertical-align: top;\n",
              "    }\n",
              "\n",
              "    .dataframe thead th {\n",
              "        text-align: right;\n",
              "    }\n",
              "</style>\n",
              "<table border=\"1\" class=\"dataframe\">\n",
              "  <thead>\n",
              "    <tr style=\"text-align: right;\">\n",
              "      <th></th>\n",
              "      <th>PC1</th>\n",
              "      <th>PC2</th>\n",
              "      <th>PC3</th>\n",
              "      <th>PC4</th>\n",
              "      <th>PC5</th>\n",
              "      <th>PC6</th>\n",
              "      <th>PC7</th>\n",
              "      <th>PC8</th>\n",
              "      <th>PC9</th>\n",
              "      <th>PC10</th>\n",
              "      <th>...</th>\n",
              "      <th>PC16</th>\n",
              "      <th>PC17</th>\n",
              "      <th>PC18</th>\n",
              "      <th>PC19</th>\n",
              "      <th>PC20</th>\n",
              "      <th>PC21</th>\n",
              "      <th>PC22</th>\n",
              "      <th>PC23</th>\n",
              "      <th>PC24</th>\n",
              "      <th>GMM_labels</th>\n",
              "    </tr>\n",
              "  </thead>\n",
              "  <tbody>\n",
              "    <tr>\n",
              "      <th>0</th>\n",
              "      <td>7.726209</td>\n",
              "      <td>-1.794451</td>\n",
              "      <td>-1.193619</td>\n",
              "      <td>0.129696</td>\n",
              "      <td>-0.711770</td>\n",
              "      <td>1.385919</td>\n",
              "      <td>-0.822583</td>\n",
              "      <td>1.129075</td>\n",
              "      <td>-0.847572</td>\n",
              "      <td>0.204621</td>\n",
              "      <td>...</td>\n",
              "      <td>1.662561</td>\n",
              "      <td>0.222568</td>\n",
              "      <td>0.232845</td>\n",
              "      <td>0.569496</td>\n",
              "      <td>0.124713</td>\n",
              "      <td>-0.047197</td>\n",
              "      <td>-0.069814</td>\n",
              "      <td>-0.301328</td>\n",
              "      <td>0.267670</td>\n",
              "      <td>2</td>\n",
              "    </tr>\n",
              "    <tr>\n",
              "      <th>1</th>\n",
              "      <td>-1.100876</td>\n",
              "      <td>0.317505</td>\n",
              "      <td>0.489515</td>\n",
              "      <td>0.153209</td>\n",
              "      <td>1.015954</td>\n",
              "      <td>-0.110409</td>\n",
              "      <td>0.199929</td>\n",
              "      <td>0.208259</td>\n",
              "      <td>-1.624829</td>\n",
              "      <td>0.391925</td>\n",
              "      <td>...</td>\n",
              "      <td>0.938952</td>\n",
              "      <td>-0.399760</td>\n",
              "      <td>0.061244</td>\n",
              "      <td>-0.217081</td>\n",
              "      <td>-0.129416</td>\n",
              "      <td>-0.057701</td>\n",
              "      <td>0.185779</td>\n",
              "      <td>-0.236312</td>\n",
              "      <td>0.424454</td>\n",
              "      <td>1</td>\n",
              "    </tr>\n",
              "    <tr>\n",
              "      <th>2</th>\n",
              "      <td>-1.305879</td>\n",
              "      <td>-2.292637</td>\n",
              "      <td>-1.487772</td>\n",
              "      <td>0.795299</td>\n",
              "      <td>-0.920676</td>\n",
              "      <td>1.308988</td>\n",
              "      <td>-0.836859</td>\n",
              "      <td>-0.860651</td>\n",
              "      <td>-0.126263</td>\n",
              "      <td>-0.408990</td>\n",
              "      <td>...</td>\n",
              "      <td>-0.651555</td>\n",
              "      <td>-0.328567</td>\n",
              "      <td>0.431962</td>\n",
              "      <td>-0.270342</td>\n",
              "      <td>-0.088899</td>\n",
              "      <td>0.175215</td>\n",
              "      <td>0.212596</td>\n",
              "      <td>0.263753</td>\n",
              "      <td>0.019203</td>\n",
              "      <td>0</td>\n",
              "    </tr>\n",
              "    <tr>\n",
              "      <th>3</th>\n",
              "      <td>-1.180062</td>\n",
              "      <td>0.393263</td>\n",
              "      <td>-1.814345</td>\n",
              "      <td>-0.460742</td>\n",
              "      <td>-0.293029</td>\n",
              "      <td>-1.144645</td>\n",
              "      <td>-0.489941</td>\n",
              "      <td>0.065831</td>\n",
              "      <td>0.240849</td>\n",
              "      <td>0.623819</td>\n",
              "      <td>...</td>\n",
              "      <td>-0.076200</td>\n",
              "      <td>0.008011</td>\n",
              "      <td>-0.623849</td>\n",
              "      <td>-0.258389</td>\n",
              "      <td>0.056169</td>\n",
              "      <td>0.219320</td>\n",
              "      <td>0.297428</td>\n",
              "      <td>0.116926</td>\n",
              "      <td>-0.469678</td>\n",
              "      <td>1</td>\n",
              "    </tr>\n",
              "    <tr>\n",
              "      <th>4</th>\n",
              "      <td>-0.529381</td>\n",
              "      <td>-0.805218</td>\n",
              "      <td>-0.893270</td>\n",
              "      <td>1.537399</td>\n",
              "      <td>-0.309708</td>\n",
              "      <td>-1.921205</td>\n",
              "      <td>-0.432234</td>\n",
              "      <td>0.354910</td>\n",
              "      <td>0.748692</td>\n",
              "      <td>-1.138925</td>\n",
              "      <td>...</td>\n",
              "      <td>-0.039368</td>\n",
              "      <td>0.618098</td>\n",
              "      <td>-0.047075</td>\n",
              "      <td>-0.101818</td>\n",
              "      <td>0.404955</td>\n",
              "      <td>0.711284</td>\n",
              "      <td>-0.246795</td>\n",
              "      <td>0.336573</td>\n",
              "      <td>0.378870</td>\n",
              "      <td>0</td>\n",
              "    </tr>\n",
              "  </tbody>\n",
              "</table>\n",
              "<p>5 rows × 25 columns</p>\n",
              "</div>\n",
              "      <button class=\"colab-df-convert\" onclick=\"convertToInteractive('df-fb4f7d28-ffa1-4f33-9f84-27f451644be3')\"\n",
              "              title=\"Convert this dataframe to an interactive table.\"\n",
              "              style=\"display:none;\">\n",
              "        \n",
              "  <svg xmlns=\"http://www.w3.org/2000/svg\" height=\"24px\"viewBox=\"0 0 24 24\"\n",
              "       width=\"24px\">\n",
              "    <path d=\"M0 0h24v24H0V0z\" fill=\"none\"/>\n",
              "    <path d=\"M18.56 5.44l.94 2.06.94-2.06 2.06-.94-2.06-.94-.94-2.06-.94 2.06-2.06.94zm-11 1L8.5 8.5l.94-2.06 2.06-.94-2.06-.94L8.5 2.5l-.94 2.06-2.06.94zm10 10l.94 2.06.94-2.06 2.06-.94-2.06-.94-.94-2.06-.94 2.06-2.06.94z\"/><path d=\"M17.41 7.96l-1.37-1.37c-.4-.4-.92-.59-1.43-.59-.52 0-1.04.2-1.43.59L10.3 9.45l-7.72 7.72c-.78.78-.78 2.05 0 2.83L4 21.41c.39.39.9.59 1.41.59.51 0 1.02-.2 1.41-.59l7.78-7.78 2.81-2.81c.8-.78.8-2.07 0-2.86zM5.41 20L4 18.59l7.72-7.72 1.47 1.35L5.41 20z\"/>\n",
              "  </svg>\n",
              "      </button>\n",
              "      \n",
              "  <style>\n",
              "    .colab-df-container {\n",
              "      display:flex;\n",
              "      flex-wrap:wrap;\n",
              "      gap: 12px;\n",
              "    }\n",
              "\n",
              "    .colab-df-convert {\n",
              "      background-color: #E8F0FE;\n",
              "      border: none;\n",
              "      border-radius: 50%;\n",
              "      cursor: pointer;\n",
              "      display: none;\n",
              "      fill: #1967D2;\n",
              "      height: 32px;\n",
              "      padding: 0 0 0 0;\n",
              "      width: 32px;\n",
              "    }\n",
              "\n",
              "    .colab-df-convert:hover {\n",
              "      background-color: #E2EBFA;\n",
              "      box-shadow: 0px 1px 2px rgba(60, 64, 67, 0.3), 0px 1px 3px 1px rgba(60, 64, 67, 0.15);\n",
              "      fill: #174EA6;\n",
              "    }\n",
              "\n",
              "    [theme=dark] .colab-df-convert {\n",
              "      background-color: #3B4455;\n",
              "      fill: #D2E3FC;\n",
              "    }\n",
              "\n",
              "    [theme=dark] .colab-df-convert:hover {\n",
              "      background-color: #434B5C;\n",
              "      box-shadow: 0px 1px 3px 1px rgba(0, 0, 0, 0.15);\n",
              "      filter: drop-shadow(0px 1px 2px rgba(0, 0, 0, 0.3));\n",
              "      fill: #FFFFFF;\n",
              "    }\n",
              "  </style>\n",
              "\n",
              "      <script>\n",
              "        const buttonEl =\n",
              "          document.querySelector('#df-fb4f7d28-ffa1-4f33-9f84-27f451644be3 button.colab-df-convert');\n",
              "        buttonEl.style.display =\n",
              "          google.colab.kernel.accessAllowed ? 'block' : 'none';\n",
              "\n",
              "        async function convertToInteractive(key) {\n",
              "          const element = document.querySelector('#df-fb4f7d28-ffa1-4f33-9f84-27f451644be3');\n",
              "          const dataTable =\n",
              "            await google.colab.kernel.invokeFunction('convertToInteractive',\n",
              "                                                     [key], {});\n",
              "          if (!dataTable) return;\n",
              "\n",
              "          const docLinkHtml = 'Like what you see? Visit the ' +\n",
              "            '<a target=\"_blank\" href=https://colab.research.google.com/notebooks/data_table.ipynb>data table notebook</a>'\n",
              "            + ' to learn more about interactive tables.';\n",
              "          element.innerHTML = '';\n",
              "          dataTable['output_type'] = 'display_data';\n",
              "          await google.colab.output.renderOutput(dataTable, element);\n",
              "          const docLink = document.createElement('div');\n",
              "          docLink.innerHTML = docLinkHtml;\n",
              "          element.appendChild(docLink);\n",
              "        }\n",
              "      </script>\n",
              "    </div>\n",
              "  </div>\n",
              "  "
            ]
          },
          "metadata": {},
          "execution_count": 42
        }
      ]
    },
    {
      "cell_type": "code",
      "source": [
        "# scatterplot - PC scores, with cluster labels coloured\n",
        "\n",
        "plt.scatter(toplot['PC1'], toplot['PC2'], c=labels, cmap='viridis') # x,y\n"
      ],
      "metadata": {
        "colab": {
          "base_uri": "https://localhost:8080/",
          "height": 283
        },
        "id": "Qit_DKEMS60t",
        "outputId": "897d2dbe-dece-4691-b5c7-1a8f85767c76"
      },
      "id": "Qit_DKEMS60t",
      "execution_count": 43,
      "outputs": [
        {
          "output_type": "execute_result",
          "data": {
            "text/plain": [
              "<matplotlib.collections.PathCollection at 0x7f6313a58a50>"
            ]
          },
          "metadata": {},
          "execution_count": 43
        },
        {
          "output_type": "display_data",
          "data": {
            "text/plain": [
              "<Figure size 432x288 with 1 Axes>"
            ],
            "image/png": "[encoded data removed]"
          },
          "metadata": {
            "needs_background": "light"
          }
        }
      ]
    },
    {
      "cell_type": "code",
      "source": [
        "# prep df earlier for loading plot\n",
        "\n",
        "# make column names for df_X_gmm\n",
        "df_X_gmm.columns = X_2.columns\n",
        "df_X_gmm.head()"
      ],
      "metadata": {
        "colab": {
          "base_uri": "https://localhost:8080/",
          "height": 371
        },
        "id": "dahPHoKvWeMF",
        "outputId": "8c966d44-9756-4746-b878-02d49f28255c"
      },
      "id": "dahPHoKvWeMF",
      "execution_count": null,
      "outputs": [
        {
          "output_type": "error",
          "ename": "ValueError",
          "evalue": "ignored",
          "traceback": [
            "\u001b[0;31m---------------------------------------------------------------------------\u001b[0m",
            "\u001b[0;31mValueError\u001b[0m                                Traceback (most recent call last)",
            "\u001b[0;32m<ipython-input-63-0fa5dfd5b23a>\u001b[0m in \u001b[0;36m<module>\u001b[0;34m()\u001b[0m\n\u001b[1;32m      2\u001b[0m \u001b[0;34m\u001b[0m\u001b[0m\n\u001b[1;32m      3\u001b[0m \u001b[0;31m# make column names for df_X_gmm\u001b[0m\u001b[0;34m\u001b[0m\u001b[0;34m\u001b[0m\u001b[0;34m\u001b[0m\u001b[0m\n\u001b[0;32m----> 4\u001b[0;31m \u001b[0mdf_X_gmm\u001b[0m\u001b[0;34m.\u001b[0m\u001b[0mcolumns\u001b[0m \u001b[0;34m=\u001b[0m \u001b[0mX_2\u001b[0m\u001b[0;34m.\u001b[0m\u001b[0mcolumns\u001b[0m\u001b[0;34m\u001b[0m\u001b[0;34m\u001b[0m\u001b[0m\n\u001b[0m\u001b[1;32m      5\u001b[0m \u001b[0mdf_X_gmm\u001b[0m\u001b[0;34m.\u001b[0m\u001b[0mhead\u001b[0m\u001b[0;34m(\u001b[0m\u001b[0;34m)\u001b[0m\u001b[0;34m\u001b[0m\u001b[0;34m\u001b[0m\u001b[0m\n",
            "\u001b[0;32m/usr/local/lib/python3.7/dist-packages/pandas/core/generic.py\u001b[0m in \u001b[0;36m__setattr__\u001b[0;34m(self, name, value)\u001b[0m\n\u001b[1;32m   5498\u001b[0m         \u001b[0;32mtry\u001b[0m\u001b[0;34m:\u001b[0m\u001b[0;34m\u001b[0m\u001b[0;34m\u001b[0m\u001b[0m\n\u001b[1;32m   5499\u001b[0m             \u001b[0mobject\u001b[0m\u001b[0;34m.\u001b[0m\u001b[0m__getattribute__\u001b[0m\u001b[0;34m(\u001b[0m\u001b[0mself\u001b[0m\u001b[0;34m,\u001b[0m \u001b[0mname\u001b[0m\u001b[0;34m)\u001b[0m\u001b[0;34m\u001b[0m\u001b[0;34m\u001b[0m\u001b[0m\n\u001b[0;32m-> 5500\u001b[0;31m             \u001b[0;32mreturn\u001b[0m \u001b[0mobject\u001b[0m\u001b[0;34m.\u001b[0m\u001b[0m__setattr__\u001b[0m\u001b[0;34m(\u001b[0m\u001b[0mself\u001b[0m\u001b[0;34m,\u001b[0m \u001b[0mname\u001b[0m\u001b[0;34m,\u001b[0m \u001b[0mvalue\u001b[0m\u001b[0;34m)\u001b[0m\u001b[0;34m\u001b[0m\u001b[0;34m\u001b[0m\u001b[0m\n\u001b[0m\u001b[1;32m   5501\u001b[0m         \u001b[0;32mexcept\u001b[0m \u001b[0mAttributeError\u001b[0m\u001b[0;34m:\u001b[0m\u001b[0;34m\u001b[0m\u001b[0;34m\u001b[0m\u001b[0m\n\u001b[1;32m   5502\u001b[0m             \u001b[0;32mpass\u001b[0m\u001b[0;34m\u001b[0m\u001b[0;34m\u001b[0m\u001b[0m\n",
            "\u001b[0;32m/usr/local/lib/python3.7/dist-packages/pandas/_libs/properties.pyx\u001b[0m in \u001b[0;36mpandas._libs.properties.AxisProperty.__set__\u001b[0;34m()\u001b[0m\n",
            "\u001b[0;32m/usr/local/lib/python3.7/dist-packages/pandas/core/generic.py\u001b[0m in \u001b[0;36m_set_axis\u001b[0;34m(self, axis, labels)\u001b[0m\n\u001b[1;32m    764\u001b[0m     \u001b[0;32mdef\u001b[0m \u001b[0m_set_axis\u001b[0m\u001b[0;34m(\u001b[0m\u001b[0mself\u001b[0m\u001b[0;34m,\u001b[0m \u001b[0maxis\u001b[0m\u001b[0;34m:\u001b[0m \u001b[0mint\u001b[0m\u001b[0;34m,\u001b[0m \u001b[0mlabels\u001b[0m\u001b[0;34m:\u001b[0m \u001b[0mIndex\u001b[0m\u001b[0;34m)\u001b[0m \u001b[0;34m->\u001b[0m \u001b[0;32mNone\u001b[0m\u001b[0;34m:\u001b[0m\u001b[0;34m\u001b[0m\u001b[0;34m\u001b[0m\u001b[0m\n\u001b[1;32m    765\u001b[0m         \u001b[0mlabels\u001b[0m \u001b[0;34m=\u001b[0m \u001b[0mensure_index\u001b[0m\u001b[0;34m(\u001b[0m\u001b[0mlabels\u001b[0m\u001b[0;34m)\u001b[0m\u001b[0;34m\u001b[0m\u001b[0;34m\u001b[0m\u001b[0m\n\u001b[0;32m--> 766\u001b[0;31m         \u001b[0mself\u001b[0m\u001b[0;34m.\u001b[0m\u001b[0m_mgr\u001b[0m\u001b[0;34m.\u001b[0m\u001b[0mset_axis\u001b[0m\u001b[0;34m(\u001b[0m\u001b[0maxis\u001b[0m\u001b[0;34m,\u001b[0m \u001b[0mlabels\u001b[0m\u001b[0;34m)\u001b[0m\u001b[0;34m\u001b[0m\u001b[0;34m\u001b[0m\u001b[0m\n\u001b[0m\u001b[1;32m    767\u001b[0m         \u001b[0mself\u001b[0m\u001b[0;34m.\u001b[0m\u001b[0m_clear_item_cache\u001b[0m\u001b[0;34m(\u001b[0m\u001b[0;34m)\u001b[0m\u001b[0;34m\u001b[0m\u001b[0;34m\u001b[0m\u001b[0m\n\u001b[1;32m    768\u001b[0m \u001b[0;34m\u001b[0m\u001b[0m\n",
            "\u001b[0;32m/usr/local/lib/python3.7/dist-packages/pandas/core/internals/managers.py\u001b[0m in \u001b[0;36mset_axis\u001b[0;34m(self, axis, new_labels)\u001b[0m\n\u001b[1;32m    214\u001b[0m     \u001b[0;32mdef\u001b[0m \u001b[0mset_axis\u001b[0m\u001b[0;34m(\u001b[0m\u001b[0mself\u001b[0m\u001b[0;34m,\u001b[0m \u001b[0maxis\u001b[0m\u001b[0;34m:\u001b[0m \u001b[0mint\u001b[0m\u001b[0;34m,\u001b[0m \u001b[0mnew_labels\u001b[0m\u001b[0;34m:\u001b[0m \u001b[0mIndex\u001b[0m\u001b[0;34m)\u001b[0m \u001b[0;34m->\u001b[0m \u001b[0;32mNone\u001b[0m\u001b[0;34m:\u001b[0m\u001b[0;34m\u001b[0m\u001b[0;34m\u001b[0m\u001b[0m\n\u001b[1;32m    215\u001b[0m         \u001b[0;31m# Caller is responsible for ensuring we have an Index object.\u001b[0m\u001b[0;34m\u001b[0m\u001b[0;34m\u001b[0m\u001b[0;34m\u001b[0m\u001b[0m\n\u001b[0;32m--> 216\u001b[0;31m         \u001b[0mself\u001b[0m\u001b[0;34m.\u001b[0m\u001b[0m_validate_set_axis\u001b[0m\u001b[0;34m(\u001b[0m\u001b[0maxis\u001b[0m\u001b[0;34m,\u001b[0m \u001b[0mnew_labels\u001b[0m\u001b[0;34m)\u001b[0m\u001b[0;34m\u001b[0m\u001b[0;34m\u001b[0m\u001b[0m\n\u001b[0m\u001b[1;32m    217\u001b[0m         \u001b[0mself\u001b[0m\u001b[0;34m.\u001b[0m\u001b[0maxes\u001b[0m\u001b[0;34m[\u001b[0m\u001b[0maxis\u001b[0m\u001b[0;34m]\u001b[0m \u001b[0;34m=\u001b[0m \u001b[0mnew_labels\u001b[0m\u001b[0;34m\u001b[0m\u001b[0;34m\u001b[0m\u001b[0m\n\u001b[1;32m    218\u001b[0m \u001b[0;34m\u001b[0m\u001b[0m\n",
            "\u001b[0;32m/usr/local/lib/python3.7/dist-packages/pandas/core/internals/base.py\u001b[0m in \u001b[0;36m_validate_set_axis\u001b[0;34m(self, axis, new_labels)\u001b[0m\n\u001b[1;32m     56\u001b[0m         \u001b[0;32melif\u001b[0m \u001b[0mnew_len\u001b[0m \u001b[0;34m!=\u001b[0m \u001b[0mold_len\u001b[0m\u001b[0;34m:\u001b[0m\u001b[0;34m\u001b[0m\u001b[0;34m\u001b[0m\u001b[0m\n\u001b[1;32m     57\u001b[0m             raise ValueError(\n\u001b[0;32m---> 58\u001b[0;31m                 \u001b[0;34mf\"Length mismatch: Expected axis has {old_len} elements, new \"\u001b[0m\u001b[0;34m\u001b[0m\u001b[0;34m\u001b[0m\u001b[0m\n\u001b[0m\u001b[1;32m     59\u001b[0m                 \u001b[0;34mf\"values have {new_len} elements\"\u001b[0m\u001b[0;34m\u001b[0m\u001b[0;34m\u001b[0m\u001b[0m\n\u001b[1;32m     60\u001b[0m             )\n",
            "\u001b[0;31mValueError\u001b[0m: Length mismatch: Expected axis has 27 elements, new values have 26 elements"
          ]
        }
      ]
    },
    {
      "cell_type": "code",
      "source": [
        "# plot loadings\n",
        "ax = sb.heatmap(pca.components_,\n",
        "                 cmap='YlGnBu',\n",
        "                 yticklabels=[ \"PCA\"+str(x) for x in range(1,pca.n_components_+1)],\n",
        "                 xticklabels=list(df_X_gmm.columns),\n",
        "                 cbar_kws={\"orientation\": \"horizontal\"})\n",
        "ax.set_aspect(\"equal\")"
      ],
      "metadata": {
        "id": "JJd1MtaqZOLu",
        "colab": {
          "base_uri": "https://localhost:8080/",
          "height": 251
        },
        "outputId": "54bf6b2a-9f3f-44da-8b1c-bf599e078381"
      },
      "id": "JJd1MtaqZOLu",
      "execution_count": 43,
      "outputs": [
        {
          "output_type": "display_data",
          "data": {
            "text/plain": [
              "<Figure size 432x288 with 2 Axes>"
            ],
            "image/png": "[encoded data removed]"
          },
          "metadata": {
            "needs_background": "light"
          }
        }
      ]
    },
    {
      "cell_type": "code",
      "source": [
        "df_X_gmm"
      ],
      "metadata": {
        "colab": {
          "base_uri": "https://localhost:8080/",
          "height": 487
        },
        "id": "qp3h0uXAZEL8",
        "outputId": "02718ab8-4989-4bdd-c61f-34a755323b17"
      },
      "id": "qp3h0uXAZEL8",
      "execution_count": null,
      "outputs": [
        {
          "output_type": "execute_result",
          "data": {
            "text/plain": [
              "           0         1         2         3         4         5         6   \\\n",
              "0   -1.142719  1.210629 -0.002150  0.121644  0.569337 -0.117863  0.847968   \n",
              "1    0.200250 -0.363245  0.076020 -0.557759 -0.282099 -0.202743  0.009506   \n",
              "2   -1.142719  1.287081 -0.123481 -1.376693 -1.338247 -0.500252  0.009506   \n",
              "3   -0.003400 -0.919791 -0.236115 -0.433784  0.037164 -0.583569  0.009506   \n",
              "4    0.163939  0.554357  0.549172 -1.044847  0.326401  0.710306  0.298722   \n",
              "..        ...       ...       ...       ...       ...       ...       ...   \n",
              "203 -0.290428  0.394650 -0.666951  1.733543  2.529972  0.846074  0.068722   \n",
              "204  0.042287 -1.024549 -0.135605 -0.166915  0.275604 -0.586230 -0.031536   \n",
              "205 -0.290428 -1.516069 -0.787921  0.531835 -0.064753 -1.205060  0.009506   \n",
              "206 -1.142719 -0.463606  0.074020 -0.160550 -0.175215  0.067377  0.009506   \n",
              "207  0.654617 -0.473249  0.147472  0.642253  1.318513  0.176877  0.009506   \n",
              "\n",
              "           7         8         9   ...        17        18        19  \\\n",
              "0    0.670539  0.684703 -1.048995  ...  0.602269  0.877362  2.715387   \n",
              "1   -0.587835 -0.111966  0.826708  ... -0.089219  0.057617 -0.607317   \n",
              "2    0.166955  0.628799 -1.956701  ... -0.170542  0.248868  0.143974   \n",
              "3   -0.488447  0.317450 -0.923244  ...  0.015432 -0.744859 -0.675338   \n",
              "4   -1.615116 -0.390942 -0.838140  ... -0.047465  0.253225 -0.942244   \n",
              "..        ...       ...       ...  ...       ...       ...       ...   \n",
              "203 -0.141159  0.074867  0.173285  ...  1.111525  0.509488 -0.133339   \n",
              "204  0.510206 -0.443499 -0.086676  ...  0.501690  0.382548  0.435031   \n",
              "205 -1.000935 -0.477752 -0.358120  ... -0.196796 -0.055504 -0.409100   \n",
              "206 -2.439246 -0.328325 -0.086676  ... -0.044947  0.377341  0.077046   \n",
              "207  0.146283 -0.516144  0.587496  ...  0.584600  0.639168 -0.368427   \n",
              "\n",
              "           20        21        22        23        24        25        26  \n",
              "0   -2.781593  1.261296  2.301529 -2.347156 -4.026748  2.546643  0.015469  \n",
              "1    0.556840 -1.012764 -0.174901  0.278647  0.118752 -0.265377 -0.194549  \n",
              "2    0.406764 -0.227918  0.287116  1.463617 -0.285051 -0.970779  0.394306  \n",
              "3    0.485417 -0.405231 -0.348972 -0.827640 -0.068868 -0.878153 -0.368941  \n",
              "4    0.075451 -0.451006 -0.029038 -0.546272 -0.070114 -0.776131  1.758514  \n",
              "..        ...       ...       ...       ...       ...       ...       ...  \n",
              "203  0.277205  1.372450 -0.067543 -0.112919  0.786119 -0.054592 -0.996613  \n",
              "204  0.059868  0.919473  0.051132  0.079879  0.245427  0.045471 -0.662962  \n",
              "205 -0.047810 -0.035293  0.295767 -0.441234 -0.266343 -0.009556 -0.327122  \n",
              "206  0.301837  0.723295  0.272863  0.199809  0.618983 -1.055253 -1.661385  \n",
              "207  0.295091  0.707812  0.622327  0.051726  0.886276 -0.387490 -1.064942  \n",
              "\n",
              "[208 rows x 27 columns]"
            ],
            "text/html": [
              "\n",
              "  <div id=\"df-bc89c44a-3a21-4cce-b46c-987d2178b62c\">\n",
              "    <div class=\"colab-df-container\">\n",
              "      <div>\n",
              "<style scoped>\n",
              "    .dataframe tbody tr th:only-of-type {\n",
              "        vertical-align: middle;\n",
              "    }\n",
              "\n",
              "    .dataframe tbody tr th {\n",
              "        vertical-align: top;\n",
              "    }\n",
              "\n",
              "    .dataframe thead th {\n",
              "        text-align: right;\n",
              "    }\n",
              "</style>\n",
              "<table border=\"1\" class=\"dataframe\">\n",
              "  <thead>\n",
              "    <tr style=\"text-align: right;\">\n",
              "      <th></th>\n",
              "      <th>0</th>\n",
              "      <th>1</th>\n",
              "      <th>2</th>\n",
              "      <th>3</th>\n",
              "      <th>4</th>\n",
              "      <th>5</th>\n",
              "      <th>6</th>\n",
              "      <th>7</th>\n",
              "      <th>8</th>\n",
              "      <th>9</th>\n",
              "      <th>...</th>\n",
              "      <th>17</th>\n",
              "      <th>18</th>\n",
              "      <th>19</th>\n",
              "      <th>20</th>\n",
              "      <th>21</th>\n",
              "      <th>22</th>\n",
              "      <th>23</th>\n",
              "      <th>24</th>\n",
              "      <th>25</th>\n",
              "      <th>26</th>\n",
              "    </tr>\n",
              "  </thead>\n",
              "  <tbody>\n",
              "    <tr>\n",
              "      <th>0</th>\n",
              "      <td>-1.142719</td>\n",
              "      <td>1.210629</td>\n",
              "      <td>-0.002150</td>\n",
              "      <td>0.121644</td>\n",
              "      <td>0.569337</td>\n",
              "      <td>-0.117863</td>\n",
              "      <td>0.847968</td>\n",
              "      <td>0.670539</td>\n",
              "      <td>0.684703</td>\n",
              "      <td>-1.048995</td>\n",
              "      <td>...</td>\n",
              "      <td>0.602269</td>\n",
              "      <td>0.877362</td>\n",
              "      <td>2.715387</td>\n",
              "      <td>-2.781593</td>\n",
              "      <td>1.261296</td>\n",
              "      <td>2.301529</td>\n",
              "      <td>-2.347156</td>\n",
              "      <td>-4.026748</td>\n",
              "      <td>2.546643</td>\n",
              "      <td>0.015469</td>\n",
              "    </tr>\n",
              "    <tr>\n",
              "      <th>1</th>\n",
              "      <td>0.200250</td>\n",
              "      <td>-0.363245</td>\n",
              "      <td>0.076020</td>\n",
              "      <td>-0.557759</td>\n",
              "      <td>-0.282099</td>\n",
              "      <td>-0.202743</td>\n",
              "      <td>0.009506</td>\n",
              "      <td>-0.587835</td>\n",
              "      <td>-0.111966</td>\n",
              "      <td>0.826708</td>\n",
              "      <td>...</td>\n",
              "      <td>-0.089219</td>\n",
              "      <td>0.057617</td>\n",
              "      <td>-0.607317</td>\n",
              "      <td>0.556840</td>\n",
              "      <td>-1.012764</td>\n",
              "      <td>-0.174901</td>\n",
              "      <td>0.278647</td>\n",
              "      <td>0.118752</td>\n",
              "      <td>-0.265377</td>\n",
              "      <td>-0.194549</td>\n",
              "    </tr>\n",
              "    <tr>\n",
              "      <th>2</th>\n",
              "      <td>-1.142719</td>\n",
              "      <td>1.287081</td>\n",
              "      <td>-0.123481</td>\n",
              "      <td>-1.376693</td>\n",
              "      <td>-1.338247</td>\n",
              "      <td>-0.500252</td>\n",
              "      <td>0.009506</td>\n",
              "      <td>0.166955</td>\n",
              "      <td>0.628799</td>\n",
              "      <td>-1.956701</td>\n",
              "      <td>...</td>\n",
              "      <td>-0.170542</td>\n",
              "      <td>0.248868</td>\n",
              "      <td>0.143974</td>\n",
              "      <td>0.406764</td>\n",
              "      <td>-0.227918</td>\n",
              "      <td>0.287116</td>\n",
              "      <td>1.463617</td>\n",
              "      <td>-0.285051</td>\n",
              "      <td>-0.970779</td>\n",
              "      <td>0.394306</td>\n",
              "    </tr>\n",
              "    <tr>\n",
              "      <th>3</th>\n",
              "      <td>-0.003400</td>\n",
              "      <td>-0.919791</td>\n",
              "      <td>-0.236115</td>\n",
              "      <td>-0.433784</td>\n",
              "      <td>0.037164</td>\n",
              "      <td>-0.583569</td>\n",
              "      <td>0.009506</td>\n",
              "      <td>-0.488447</td>\n",
              "      <td>0.317450</td>\n",
              "      <td>-0.923244</td>\n",
              "      <td>...</td>\n",
              "      <td>0.015432</td>\n",
              "      <td>-0.744859</td>\n",
              "      <td>-0.675338</td>\n",
              "      <td>0.485417</td>\n",
              "      <td>-0.405231</td>\n",
              "      <td>-0.348972</td>\n",
              "      <td>-0.827640</td>\n",
              "      <td>-0.068868</td>\n",
              "      <td>-0.878153</td>\n",
              "      <td>-0.368941</td>\n",
              "    </tr>\n",
              "    <tr>\n",
              "      <th>4</th>\n",
              "      <td>0.163939</td>\n",
              "      <td>0.554357</td>\n",
              "      <td>0.549172</td>\n",
              "      <td>-1.044847</td>\n",
              "      <td>0.326401</td>\n",
              "      <td>0.710306</td>\n",
              "      <td>0.298722</td>\n",
              "      <td>-1.615116</td>\n",
              "      <td>-0.390942</td>\n",
              "      <td>-0.838140</td>\n",
              "      <td>...</td>\n",
              "      <td>-0.047465</td>\n",
              "      <td>0.253225</td>\n",
              "      <td>-0.942244</td>\n",
              "      <td>0.075451</td>\n",
              "      <td>-0.451006</td>\n",
              "      <td>-0.029038</td>\n",
              "      <td>-0.546272</td>\n",
              "      <td>-0.070114</td>\n",
              "      <td>-0.776131</td>\n",
              "      <td>1.758514</td>\n",
              "    </tr>\n",
              "    <tr>\n",
              "      <th>...</th>\n",
              "      <td>...</td>\n",
              "      <td>...</td>\n",
              "      <td>...</td>\n",
              "      <td>...</td>\n",
              "      <td>...</td>\n",
              "      <td>...</td>\n",
              "      <td>...</td>\n",
              "      <td>...</td>\n",
              "      <td>...</td>\n",
              "      <td>...</td>\n",
              "      <td>...</td>\n",
              "      <td>...</td>\n",
              "      <td>...</td>\n",
              "      <td>...</td>\n",
              "      <td>...</td>\n",
              "      <td>...</td>\n",
              "      <td>...</td>\n",
              "      <td>...</td>\n",
              "      <td>...</td>\n",
              "      <td>...</td>\n",
              "      <td>...</td>\n",
              "    </tr>\n",
              "    <tr>\n",
              "      <th>203</th>\n",
              "      <td>-0.290428</td>\n",
              "      <td>0.394650</td>\n",
              "      <td>-0.666951</td>\n",
              "      <td>1.733543</td>\n",
              "      <td>2.529972</td>\n",
              "      <td>0.846074</td>\n",
              "      <td>0.068722</td>\n",
              "      <td>-0.141159</td>\n",
              "      <td>0.074867</td>\n",
              "      <td>0.173285</td>\n",
              "      <td>...</td>\n",
              "      <td>1.111525</td>\n",
              "      <td>0.509488</td>\n",
              "      <td>-0.133339</td>\n",
              "      <td>0.277205</td>\n",
              "      <td>1.372450</td>\n",
              "      <td>-0.067543</td>\n",
              "      <td>-0.112919</td>\n",
              "      <td>0.786119</td>\n",
              "      <td>-0.054592</td>\n",
              "      <td>-0.996613</td>\n",
              "    </tr>\n",
              "    <tr>\n",
              "      <th>204</th>\n",
              "      <td>0.042287</td>\n",
              "      <td>-1.024549</td>\n",
              "      <td>-0.135605</td>\n",
              "      <td>-0.166915</td>\n",
              "      <td>0.275604</td>\n",
              "      <td>-0.586230</td>\n",
              "      <td>-0.031536</td>\n",
              "      <td>0.510206</td>\n",
              "      <td>-0.443499</td>\n",
              "      <td>-0.086676</td>\n",
              "      <td>...</td>\n",
              "      <td>0.501690</td>\n",
              "      <td>0.382548</td>\n",
              "      <td>0.435031</td>\n",
              "      <td>0.059868</td>\n",
              "      <td>0.919473</td>\n",
              "      <td>0.051132</td>\n",
              "      <td>0.079879</td>\n",
              "      <td>0.245427</td>\n",
              "      <td>0.045471</td>\n",
              "      <td>-0.662962</td>\n",
              "    </tr>\n",
              "    <tr>\n",
              "      <th>205</th>\n",
              "      <td>-0.290428</td>\n",
              "      <td>-1.516069</td>\n",
              "      <td>-0.787921</td>\n",
              "      <td>0.531835</td>\n",
              "      <td>-0.064753</td>\n",
              "      <td>-1.205060</td>\n",
              "      <td>0.009506</td>\n",
              "      <td>-1.000935</td>\n",
              "      <td>-0.477752</td>\n",
              "      <td>-0.358120</td>\n",
              "      <td>...</td>\n",
              "      <td>-0.196796</td>\n",
              "      <td>-0.055504</td>\n",
              "      <td>-0.409100</td>\n",
              "      <td>-0.047810</td>\n",
              "      <td>-0.035293</td>\n",
              "      <td>0.295767</td>\n",
              "      <td>-0.441234</td>\n",
              "      <td>-0.266343</td>\n",
              "      <td>-0.009556</td>\n",
              "      <td>-0.327122</td>\n",
              "    </tr>\n",
              "    <tr>\n",
              "      <th>206</th>\n",
              "      <td>-1.142719</td>\n",
              "      <td>-0.463606</td>\n",
              "      <td>0.074020</td>\n",
              "      <td>-0.160550</td>\n",
              "      <td>-0.175215</td>\n",
              "      <td>0.067377</td>\n",
              "      <td>0.009506</td>\n",
              "      <td>-2.439246</td>\n",
              "      <td>-0.328325</td>\n",
              "      <td>-0.086676</td>\n",
              "      <td>...</td>\n",
              "      <td>-0.044947</td>\n",
              "      <td>0.377341</td>\n",
              "      <td>0.077046</td>\n",
              "      <td>0.301837</td>\n",
              "      <td>0.723295</td>\n",
              "      <td>0.272863</td>\n",
              "      <td>0.199809</td>\n",
              "      <td>0.618983</td>\n",
              "      <td>-1.055253</td>\n",
              "      <td>-1.661385</td>\n",
              "    </tr>\n",
              "    <tr>\n",
              "      <th>207</th>\n",
              "      <td>0.654617</td>\n",
              "      <td>-0.473249</td>\n",
              "      <td>0.147472</td>\n",
              "      <td>0.642253</td>\n",
              "      <td>1.318513</td>\n",
              "      <td>0.176877</td>\n",
              "      <td>0.009506</td>\n",
              "      <td>0.146283</td>\n",
              "      <td>-0.516144</td>\n",
              "      <td>0.587496</td>\n",
              "      <td>...</td>\n",
              "      <td>0.584600</td>\n",
              "      <td>0.639168</td>\n",
              "      <td>-0.368427</td>\n",
              "      <td>0.295091</td>\n",
              "      <td>0.707812</td>\n",
              "      <td>0.622327</td>\n",
              "      <td>0.051726</td>\n",
              "      <td>0.886276</td>\n",
              "      <td>-0.387490</td>\n",
              "      <td>-1.064942</td>\n",
              "    </tr>\n",
              "  </tbody>\n",
              "</table>\n",
              "<p>208 rows × 27 columns</p>\n",
              "</div>\n",
              "      <button class=\"colab-df-convert\" onclick=\"convertToInteractive('df-bc89c44a-3a21-4cce-b46c-987d2178b62c')\"\n",
              "              title=\"Convert this dataframe to an interactive table.\"\n",
              "              style=\"display:none;\">\n",
              "        \n",
              "  <svg xmlns=\"http://www.w3.org/2000/svg\" height=\"24px\"viewBox=\"0 0 24 24\"\n",
              "       width=\"24px\">\n",
              "    <path d=\"M0 0h24v24H0V0z\" fill=\"none\"/>\n",
              "    <path d=\"M18.56 5.44l.94 2.06.94-2.06 2.06-.94-2.06-.94-.94-2.06-.94 2.06-2.06.94zm-11 1L8.5 8.5l.94-2.06 2.06-.94-2.06-.94L8.5 2.5l-.94 2.06-2.06.94zm10 10l.94 2.06.94-2.06 2.06-.94-2.06-.94-.94-2.06-.94 2.06-2.06.94z\"/><path d=\"M17.41 7.96l-1.37-1.37c-.4-.4-.92-.59-1.43-.59-.52 0-1.04.2-1.43.59L10.3 9.45l-7.72 7.72c-.78.78-.78 2.05 0 2.83L4 21.41c.39.39.9.59 1.41.59.51 0 1.02-.2 1.41-.59l7.78-7.78 2.81-2.81c.8-.78.8-2.07 0-2.86zM5.41 20L4 18.59l7.72-7.72 1.47 1.35L5.41 20z\"/>\n",
              "  </svg>\n",
              "      </button>\n",
              "      \n",
              "  <style>\n",
              "    .colab-df-container {\n",
              "      display:flex;\n",
              "      flex-wrap:wrap;\n",
              "      gap: 12px;\n",
              "    }\n",
              "\n",
              "    .colab-df-convert {\n",
              "      background-color: #E8F0FE;\n",
              "      border: none;\n",
              "      border-radius: 50%;\n",
              "      cursor: pointer;\n",
              "      display: none;\n",
              "      fill: #1967D2;\n",
              "      height: 32px;\n",
              "      padding: 0 0 0 0;\n",
              "      width: 32px;\n",
              "    }\n",
              "\n",
              "    .colab-df-convert:hover {\n",
              "      background-color: #E2EBFA;\n",
              "      box-shadow: 0px 1px 2px rgba(60, 64, 67, 0.3), 0px 1px 3px 1px rgba(60, 64, 67, 0.15);\n",
              "      fill: #174EA6;\n",
              "    }\n",
              "\n",
              "    [theme=dark] .colab-df-convert {\n",
              "      background-color: #3B4455;\n",
              "      fill: #D2E3FC;\n",
              "    }\n",
              "\n",
              "    [theme=dark] .colab-df-convert:hover {\n",
              "      background-color: #434B5C;\n",
              "      box-shadow: 0px 1px 3px 1px rgba(0, 0, 0, 0.15);\n",
              "      filter: drop-shadow(0px 1px 2px rgba(0, 0, 0, 0.3));\n",
              "      fill: #FFFFFF;\n",
              "    }\n",
              "  </style>\n",
              "\n",
              "      <script>\n",
              "        const buttonEl =\n",
              "          document.querySelector('#df-bc89c44a-3a21-4cce-b46c-987d2178b62c button.colab-df-convert');\n",
              "        buttonEl.style.display =\n",
              "          google.colab.kernel.accessAllowed ? 'block' : 'none';\n",
              "\n",
              "        async function convertToInteractive(key) {\n",
              "          const element = document.querySelector('#df-bc89c44a-3a21-4cce-b46c-987d2178b62c');\n",
              "          const dataTable =\n",
              "            await google.colab.kernel.invokeFunction('convertToInteractive',\n",
              "                                                     [key], {});\n",
              "          if (!dataTable) return;\n",
              "\n",
              "          const docLinkHtml = 'Like what you see? Visit the ' +\n",
              "            '<a target=\"_blank\" href=https://colab.research.google.com/notebooks/data_table.ipynb>data table notebook</a>'\n",
              "            + ' to learn more about interactive tables.';\n",
              "          element.innerHTML = '';\n",
              "          dataTable['output_type'] = 'display_data';\n",
              "          await google.colab.output.renderOutput(dataTable, element);\n",
              "          const docLink = document.createElement('div');\n",
              "          docLink.innerHTML = docLinkHtml;\n",
              "          element.appendChild(docLink);\n",
              "        }\n",
              "      </script>\n",
              "    </div>\n",
              "  </div>\n",
              "  "
            ]
          },
          "metadata": {},
          "execution_count": 62
        }
      ]
    },
    {
      "cell_type": "code",
      "source": [
        "######### Bayesian GMM ########\n",
        "\n",
        "from sklearn.mixture import BayesianGaussianMixture\n",
        "n_components=20 # set it to a big number\n",
        "model = BayesianGaussianMixture(weight_concentration_prior= 1/(5*n_components), n_components=n_components)\n",
        "model = model.fit(X)\n",
        "\n",
        "model.weights_ "
      ],
      "metadata": {
        "id": "V0WtlH8JQ9bl"
      },
      "id": "V0WtlH8JQ9bl",
      "execution_count": null,
      "outputs": []
    },
    {
      "cell_type": "code",
      "source": [
        "# evaluate cluster weights to retain / selection meaningful ones"
      ],
      "metadata": {
        "id": "Dt5BRGFDRGrq"
      },
      "id": "Dt5BRGFDRGrq",
      "execution_count": null,
      "outputs": []
    }
  ],
  "metadata": {
    "kernelspec": {
      "display_name": "Python 3 (ipykernel)",
      "language": "python",
      "name": "python3"
    },
    "language_info": {
      "codemirror_mode": {
        "name": "ipython",
        "version": 3
      },
      "file_extension": ".py",
      "mimetype": "text/x-python",
      "name": "python",
      "nbconvert_exporter": "python",
      "pygments_lexer": "ipython3",
      "version": "3.9.7"
    },
    "colab": {
      "name": "Cyto200_jupyter.ipynb",
      "provenance": [],
      "collapsed_sections": [],
      "include_colab_link": true
    }
  },
  "nbformat": 4,
  "nbformat_minor": 5
}